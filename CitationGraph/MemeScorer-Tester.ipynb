{
 "cells": [
  {
   "cell_type": "code",
   "execution_count": 1,
   "metadata": {
    "collapsed": false,
    "scrolled": false
   },
   "outputs": [],
   "source": [
    "%matplotlib inline\n",
    "import networkx as nx\n",
    "import matplotlib.pyplot as plt\n",
    "import random\n",
    "import pandas as pd\n",
    "import numpy as np\n",
    "import multiprocessing\n",
    "from joblib import Parallel, delayed\n",
    "import time"
   ]
  },
  {
   "cell_type": "code",
   "execution_count": 2,
   "metadata": {
    "collapsed": true
   },
   "outputs": [],
   "source": [
    "def get_file_obj(filename):\n",
    "    return open(filename, 'r')\n",
    "\n",
    "def get_year_map(filename):\n",
    "    f = get_file_obj(filename)\n",
    "    \n",
    "    year_map = {}\n",
    "    \n",
    "    for line in f:\n",
    "        year, from_case, to_case = line[:-1].split(',')\n",
    "        \n",
    "        if from_case not in year:\n",
    "            year_map[from_case] = int(year)\n",
    "        \n",
    "    f.close()\n",
    "    \n",
    "    return year_map\n",
    "\n",
    "\n",
    "def get_graph(filename, b_enforce_random = False):\n",
    "    \n",
    "    if b_enforce_random:\n",
    "        random_start = 0\n",
    "        random_end = 5000\n",
    "        random_target = random_start + (random_end - random_start) / 2\n",
    "    \n",
    "    year_map = get_year_map(filename)\n",
    "    \n",
    "    # Begin building citation graph\n",
    "    f = get_file_obj(filename)    \n",
    "    g = nx.DiGraph()\n",
    "    \n",
    "    for line in f:\n",
    "    \n",
    "        year, from_case, to_case = line[:-1].split(',')\n",
    "\n",
    "        # Citing a future case is invalid\n",
    "        if (to_case in year_map) and (from_case in year_map) and (year_map[from_case] < year_map[to_case]):\n",
    "            continue\n",
    "            \n",
    "        # If they cite each other, it is most likely that both are a wrong edge\n",
    "        if (to_case in g) and (from_case in g[to_case]):\n",
    "            del g[to_case][from_case]\n",
    "            continue\n",
    "        \n",
    "        # Add edges\n",
    "        if (b_enforce_random == False) or (random_target == random.randrange(random_start, random_end)):\n",
    "            g.add_edge(from_case, to_case)\n",
    "#             g.node[from_case]['year']=int(year)\n",
    "            g.node[from_case]['ifCounted']=False\n",
    "            g.node[from_case]['isMemer']=False\n",
    "            g.node[from_case]['citesMemer']=False\n",
    "            g.node[to_case]['ifCounted']=False\n",
    "            g.node[to_case]['isMemer']=False\n",
    "            g.node[to_case]['citesMemer']=False\n",
    "                \n",
    "    f.close()\n",
    "    \n",
    "    return g\n",
    "\n",
    "\n",
    "def eliminate_cycles(g):\n",
    "\n",
    "    # Get the MST\n",
    "    mst = nx.algorithms.minimum_spanning_tree(g.to_undirected())\n",
    "    \n",
    "    tree_edges = set(mst.edges())\n",
    "    \n",
    "    valid_edges = [e for e in g.edges() if e in tree_edges or reversed(e) in tree_edges]\n",
    "    \n",
    "    # Rebuild graph\n",
    "    h = nx.DiGraph()\n",
    "    \n",
    "    h.add_edges_from(valid_edges)\n",
    "    for node in h.nodes():\n",
    "#         h.node[node]['year']=g.node[node]['year']\n",
    "        h.node[node]['ifCounted']=g.node[node]['ifCounted']\n",
    "        h.node[node]['isMemer']=g.node[node]['isMemer']\n",
    "        h.node[node]['citesMemer']=g.node[node]['citesMemer']\n",
    "    \n",
    "    return h\n",
    "    \n",
    "\n",
    "def display_graph(graph):\n",
    "    \n",
    "    print graph.nodes()\n",
    "\n",
    "\n",
    "def topological_sort(graph):\n",
    "    \"\"\"\n",
    "    Sorts graph by year.\n",
    "    Argument: graph\n",
    "    Returns: a list of nodes of the graph sorted by dependencies\n",
    "    \"\"\"\n",
    "    \n",
    "    return nx.topological_sort(graph)\n"
   ]
  },
  {
   "cell_type": "code",
   "execution_count": 20,
   "metadata": {
    "collapsed": false
   },
   "outputs": [],
   "source": [
    "def gramScorer(gram,graph,gram_dict,verbose=0):\n",
    "    \"\"\"\n",
    "    Calculates meme score for each ngram.\n",
    "    Arguments:\n",
    "    gram: an n-gram or phrase for which meme score to be calculated\n",
    "    sorted_list: a sorted list of all nodes in graph\n",
    "    graph: a NetworkX DAG of nodes/cases with edges\n",
    "    gram_dict: dict storing n-grams\n",
    "    Returns:\n",
    "    meme_score: final meme_score of the n-gram\n",
    "\"\"\"\n",
    "    sorted_list = topological_sort(graph)\n",
    "    graph_size = len(sorted_list) #number of nodes\n",
    "    if verbose==1:\n",
    "        print \"graph_size is\",graph_size\n",
    "    dm2m=0\n",
    "    d2m=0\n",
    "    dm2n=0\n",
    "    d2n=0\n",
    "    memers=0\n",
    "    nonmemers=0\n",
    "    \n",
    "    \n",
    "    #every node stores 3 vars - isMemer, citesMemer, ifCounted (in sum)\n",
    "    \n",
    "    for node in sorted_list: #list of nodes sorted topologically\n",
    "        if not graph.node[node]['ifCounted']: #if not counted in sum\n",
    "            \n",
    "            if verbose==2:\n",
    "                print node,graph.node[node]\n",
    "            if node in gram_dict.keys():\n",
    "\n",
    "                if gram_dict[node].has_key(gram): #if gram present\n",
    "                    memers+=1 #has meme\n",
    "                    graph.node[node]['isMemer']=True\n",
    "\n",
    "                else:\n",
    "                    nonmemers+=1\n",
    "\n",
    "            graph.node[node]['ifCounted']=True\n",
    "\n",
    "\n",
    "            if len(graph.successors(node))>0: #has children (citers)\n",
    "                for child in graph.successors_iter(node):\n",
    "\n",
    "                    if graph.node[child]['isMemer']==True: #soft-check if child has gram\n",
    "                        graph.node[node]['citesMemer']=True\n",
    "                    elif gram_dict[child].has_key(gram): #hard-check using dictionary\n",
    "                        graph.node[child]['isMemer']=True\n",
    "                        graph.node[node]['citesMemer']=True\n",
    "                        break\n",
    "\n",
    "            if verbose==2:\n",
    "                print node,graph.node[node]\n",
    "            if graph.node[node]['isMemer']==True and graph.node[node]['citesMemer']==True:\n",
    "                dm2m+=1 #memer cites memer\n",
    "\n",
    "            elif graph.node[node]['isMemer']==True and graph.node[node]['citesMemer']==False:\n",
    "                if len(graph.successors(node))!=0: #make sure childless nodes not counted\n",
    "                    dm2n+=1 #memer cites non-memers\n",
    "\n",
    "            if graph.node[node]['citesMemer']==True:\n",
    "                d2m+=1 #cites memers\n",
    "\n",
    "            elif graph.node[node]['citesMemer']==False:\n",
    "                if len(graph.successors(node))!=0: #make sure childless nodes not counted\n",
    "                    d2n+=1 #cites non-memers\n",
    "\n",
    "    assert memers+nonmemers==graph_size #sanity check for memer size\n",
    "    if verbose==1:\n",
    "        print \"memers =\",memers\n",
    "        print \"nonmemers =\",nonmemers\n",
    "        print \"dm2m =\",dm2m\n",
    "        print \"d2m =\",d2m\n",
    "        print \"dm2n =\",dm2n\n",
    "        print \"d2n =\",d2n\n",
    "\n",
    "    prop_score = (float(dm2m)/(d2m+3.))/((dm2n+3.)/(d2n+3.)) #ratio of sticking factor by sparking factor\n",
    "    #we take a shifted prop. score to make sure score not infinite\n",
    "    freq = float(memers)/(graph_size) #ratio of # of memers for that n-gram to size of graph\n",
    "    meme_score = prop_score*freq #prop_score x meme frequency\n",
    "    \n",
    "    if verbose==1:\n",
    "        print \"prop_score =\",prop_score\n",
    "        print \"freq =\",freq\n",
    "        print \"meme_score =\",meme_score\n",
    "\n",
    "    return meme_score"
   ]
  },
  {
   "cell_type": "code",
   "execution_count": 14,
   "metadata": {
    "collapsed": false
   },
   "outputs": [],
   "source": [
    "edges_with_cycles=[('A','B'),('A','C'),('B','A'),('G','E'),\n",
    "       ('B','F'),('B','E'),\n",
    "       ('E','F'),('E','G'),\n",
    "       ('C','D'),('C','H'),\n",
    "       ('G','H'),\n",
    "       ('D','H'),\n",
    "       ('F','H')]\n",
    "\n",
    "#cycles are ('B','A'),('G','E') in 1st row.\n",
    "\n",
    "normal_edges=[('A','B'),('A','C'),\n",
    "       ('B','F'),('B','E'),\n",
    "       ('E','F'),('E','G'),\n",
    "       ('C','D'),('C','H'),\n",
    "       ('G','H'),\n",
    "       ('D','H'),\n",
    "       ('F','H')]"
   ]
  },
  {
   "cell_type": "code",
   "execution_count": 6,
   "metadata": {
    "collapsed": true
   },
   "outputs": [],
   "source": [
    "test_dict={'A':{'test1':2,'test2':2,'test3':3},'B':{'test2':2,'test3':3},'C':{'test1':2,'test2':1,'test3':3},\n",
    "           'D':{'test1':2,'test3':3},'E':{'test1':2,'test2':1},'F':{'test2':1,'test3':3},\n",
    "           'G':{'test1':2,'test2':1},'H':{'test2':1,'test3':2}}"
   ]
  },
  {
   "cell_type": "code",
   "execution_count": 8,
   "metadata": {
    "collapsed": true
   },
   "outputs": [],
   "source": [
    "def build_test_graph(edges):\n",
    "    g = nx.DiGraph()\n",
    "    for x in edges:\n",
    "        g.add_edge(x[0], x[1])\n",
    "        g.node[x[0]]['ifCounted']=False\n",
    "        g.node[x[0]]['isMemer']=False\n",
    "        g.node[x[0]]['citesMemer']=False\n",
    "        g.node[x[1]]['ifCounted']=False\n",
    "        g.node[x[1]]['isMemer']=False\n",
    "        g.node[x[1]]['citesMemer']=False\n",
    "    return g\n",
    "\n",
    "def freshen_graph(g):\n",
    "    for node in g.nodes():\n",
    "        g.node[node]['ifCounted']=False\n",
    "        g.node[node]['isMemer']=False\n",
    "        g.node[node]['citesMemer']=False\n",
    "    return g"
   ]
  },
  {
   "cell_type": "markdown",
   "metadata": {},
   "source": [
    "## Testing cycles"
   ]
  },
  {
   "cell_type": "code",
   "execution_count": 9,
   "metadata": {
    "collapsed": true
   },
   "outputs": [],
   "source": [
    "g_cycle=build_test_graph(edges_with_cycles)\n",
    "g_norm = build_test_graph(normal_edges)"
   ]
  },
  {
   "cell_type": "code",
   "execution_count": 10,
   "metadata": {
    "collapsed": false
   },
   "outputs": [
    {
     "data": {
      "image/png": "[encoded data removed]",
      "text/plain": [
       "<matplotlib.figure.Figure at 0x4960ed0>"
      ]
     },
     "metadata": {},
     "output_type": "display_data"
    }
   ],
   "source": [
    "nx.draw_networkx(g_norm)"
   ]
  },
  {
   "cell_type": "code",
   "execution_count": 11,
   "metadata": {
    "collapsed": false
   },
   "outputs": [
    {
     "data": {
      "image/png": "[encoded data removed]",
      "text/plain": [
       "<matplotlib.figure.Figure at 0x49d5250>"
      ]
     },
     "metadata": {},
     "output_type": "display_data"
    }
   ],
   "source": [
    "nx.draw_networkx(g_cycle)"
   ]
  },
  {
   "cell_type": "code",
   "execution_count": 12,
   "metadata": {
    "collapsed": false
   },
   "outputs": [
    {
     "data": {
      "text/plain": [
       "[('A', 'C'),\n",
       " ('A', 'B'),\n",
       " ('C', 'H'),\n",
       " ('C', 'D'),\n",
       " ('B', 'A'),\n",
       " ('B', 'E'),\n",
       " ('B', 'F'),\n",
       " ('E', 'G'),\n",
       " ('E', 'F'),\n",
       " ('D', 'H'),\n",
       " ('G', 'H'),\n",
       " ('G', 'E'),\n",
       " ('F', 'H')]"
      ]
     },
     "execution_count": 12,
     "metadata": {},
     "output_type": "execute_result"
    }
   ],
   "source": [
    "g_cycle.edges()"
   ]
  },
  {
   "cell_type": "code",
   "execution_count": 13,
   "metadata": {
    "collapsed": false
   },
   "outputs": [
    {
     "data": {
      "text/plain": [
       "[('A', 'C'),\n",
       " ('A', 'B'),\n",
       " ('C', 'H'),\n",
       " ('C', 'D'),\n",
       " ('B', 'E'),\n",
       " ('B', 'F'),\n",
       " ('E', 'G')]"
      ]
     },
     "execution_count": 13,
     "metadata": {},
     "output_type": "execute_result"
    }
   ],
   "source": [
    "h_cycle=eliminate_cycles(g_cycle)\n",
    "h_cycle.edges()"
   ]
  },
  {
   "cell_type": "markdown",
   "metadata": {},
   "source": [
    "### @adi: Some non-cycle edges are missing above!"
   ]
  },
  {
   "cell_type": "markdown",
   "metadata": {},
   "source": [
    "## Testing meme-scorer"
   ]
  },
  {
   "cell_type": "code",
   "execution_count": 15,
   "metadata": {
    "collapsed": true
   },
   "outputs": [],
   "source": [
    "# gram = test1\n",
    "# A, y -> B, C, m2m = 1, 2m = 1, m2n = 0, 2n = 0 [0=no, 1=yes]\n",
    "# B, n -> F, E, m2m = 0, 2m = 1, m2n = 0, 2n = 0 \n",
    "# C, y -> D, H, m2m = 1, 2m = 1, m2n = 0, 2n = 0\n",
    "# D, y -> H,    m2m = 0, 2m = 0, m2n = 1, 2n = 1\n",
    "# E, y -> F, G, m2m = 1, 2m = 1, m2n = 0, 2n = 0\n",
    "# F, n -> H,    m2m = 0, 2m = 0, m2n = 0, 2n = 1\n",
    "# G, y -> H,    m2m = 0, 2m = 0, m2n = 1, 2n = 1\n",
    "# H, n -> na,   m2m = 0, 2m = 0, m2n = 0, 2n = 0"
   ]
  },
  {
   "cell_type": "code",
   "execution_count": 22,
   "metadata": {
    "collapsed": true
   },
   "outputs": [],
   "source": [
    "#node: A, gram: test1. Check that following should be correct:\n",
    "# memers=    5\n",
    "# nonmemers= 3\n",
    "# dm2m =     3\n",
    "# d2m =      4\n",
    "# dm2n =     2\n",
    "# d2n =      3"
   ]
  },
  {
   "cell_type": "code",
   "execution_count": 21,
   "metadata": {
    "collapsed": false
   },
   "outputs": [
    {
     "name": "stdout",
     "output_type": "stream",
     "text": [
      "A test1\n",
      "graph_size is 8\n",
      "memers = 5\n",
      "nonmemers = 3\n",
      "dm2m = 3\n",
      "d2m = 4\n",
      "dm2n = 2\n",
      "d2n = 3\n",
      "prop_score = 0.514285714286\n",
      "freq = 0.625\n",
      "meme_score = 0.321428571429\n",
      "A test3\n",
      "graph_size is 8\n",
      "memers = 6\n",
      "nonmemers = 2\n",
      "dm2m = 5\n",
      "d2m = 7\n",
      "dm2n = 0\n",
      "d2n = 0\n",
      "prop_score = 0.5\n",
      "freq = 0.75\n",
      "meme_score = 0.375\n",
      "A test2\n",
      "graph_size is 8\n",
      "memers = 7\n",
      "nonmemers = 1\n",
      "dm2m = 6\n",
      "d2m = 7\n",
      "dm2n = 0\n",
      "d2n = 0\n",
      "prop_score = 0.6\n",
      "freq = 0.875\n",
      "meme_score = 0.525\n"
     ]
    }
   ],
   "source": [
    "# testg = build_test_graph()\n",
    "for i in ['A']:\n",
    "    for gram in test_dict[i]:\n",
    "        print i,gram\n",
    "        testg=freshen_graph(g_norm)\n",
    "        dummy_score=gramScorer(gram,g_norm,test_dict,1)\n",
    "        "
   ]
  },
  {
   "cell_type": "markdown",
   "metadata": {
    "collapsed": true
   },
   "source": [
    "### Result: Correct."
   ]
  },
  {
   "cell_type": "code",
   "execution_count": null,
   "metadata": {
    "collapsed": true
   },
   "outputs": [],
   "source": []
  }
 ],
 "metadata": {
  "kernelspec": {
   "display_name": "Python 2",
   "language": "python",
   "name": "python2"
  },
  "language_info": {
   "codemirror_mode": {
    "name": "ipython",
    "version": 2
   },
   "file_extension": ".py",
   "mimetype": "text/x-python",
   "name": "python",
   "nbconvert_exporter": "python",
   "pygments_lexer": "ipython2",
   "version": "2.7.6"
  }
 },
 "nbformat": 4,
 "nbformat_minor": 0
}
