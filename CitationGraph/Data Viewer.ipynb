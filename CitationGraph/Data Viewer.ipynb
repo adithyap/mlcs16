{
 "cells": [
  {
   "cell_type": "code",
   "execution_count": 1,
   "metadata": {
    "collapsed": true
   },
   "outputs": [],
   "source": [
    "import pandas as pd\n",
    "\n",
    "pd.options.display.max_columns = 999"
   ]
  },
  {
   "cell_type": "code",
   "execution_count": 22,
   "metadata": {
    "collapsed": false
   },
   "outputs": [],
   "source": [
    "########################################################################\n",
    "# READ: \n",
    "# Assumes you have 'Data/merged_caselevel_data.csv' when it runs\n",
    "########################################################################\n",
    "\n",
    "merged_caselevel = pd.read_csv('Data/merged_caselevel_data.csv', low_memory=False)"
   ]
  },
  {
   "cell_type": "code",
   "execution_count": 37,
   "metadata": {
    "collapsed": true
   },
   "outputs": [],
   "source": [
    "def isInt(val):\n",
    "    try:\n",
    "        x = int(val)\n",
    "        return True\n",
    "    except:\n",
    "        return False\n",
    "\n",
    "def isNaN(val):\n",
    "    return val != val\n",
    "\n",
    "def isValid(val):\n",
    "    \n",
    "    if val == '':\n",
    "        return False\n",
    "    \n",
    "    if isInt(val):\n",
    "        if int(val) == 0:\n",
    "            return False\n",
    "        return True\n",
    "    \n",
    "    if isNaN(val):\n",
    "        return False\n",
    "    \n",
    "    return True"
   ]
  },
  {
   "cell_type": "code",
   "execution_count": 27,
   "metadata": {
    "collapsed": false
   },
   "outputs": [],
   "source": [
    "mc1 = merged_caselevel[merged_caselevel['priorpub'] != '']\n",
    "mc2 = mc1[mc1['priorpub'] != '0']\n",
    "mc3 = mc2[mc2['priorpub'] != '000000000']\n",
    "mc4 = mc3[isNaN(mc3['priorpub']) == False]"
   ]
  },
  {
   "cell_type": "code",
   "execution_count": 42,
   "metadata": {
    "collapsed": false
   },
   "outputs": [],
   "source": [
    "filtered_merged_caselevel = merged_caselevel[ merged_caselevel['priorpub'].apply(isValid) ]"
   ]
  },
  {
   "cell_type": "code",
   "execution_count": 66,
   "metadata": {
    "collapsed": false
   },
   "outputs": [
    {
     "data": {
      "text/plain": [
       "7604          198fs286z\n",
       "13809         753FS1056\n",
       "4817          55tc320zz\n",
       "5654          265fs168z\n",
       "16063    742 F Supp 682\n",
       "3646          0353fs135\n",
       "7866          33tc511zz\n",
       "1451          0587fs018\n",
       "3253          409fs0051\n",
       "4336          330fs762z\n",
       "13230         0716FS000\n",
       "14495          969F2d13\n",
       "3750          487f2d128\n",
       "11885         5f2d692zz\n",
       "4533          0054frd40\n",
       "5732           26400322\n",
       "4765          429f2d127\n",
       "6442          238fs163z\n",
       "5848          0209fs050\n",
       "17386     121 S ct 1598\n",
       "Name: priorpub, dtype: object"
      ]
     },
     "execution_count": 66,
     "metadata": {},
     "output_type": "execute_result"
    }
   ],
   "source": [
    "########################################################################\n",
    "# READ:\n",
    "# Keep re-running this section of code to get random samples of priorpub\n",
    "# I have filtered out all the noise in the previous section\n",
    "########################################################################\n",
    "\n",
    "filtered_merged_caselevel['priorpub'].sample(20)"
   ]
  },
  {
   "cell_type": "code",
   "execution_count": 65,
   "metadata": {
    "collapsed": false
   },
   "outputs": [
    {
     "data": {
      "text/plain": [
       "[['0052/0605', '00520605'],\n",
       " ['58fs523zz', '58fs523zz'],\n",
       " ['756FS134', '756fS134'],\n",
       " ['188f2d331', '188f2d331'],\n",
       " ['24fs814zz', '24fs814zz'],\n",
       " ['228fs619z', '228fs619z'],\n",
       " ['20400473', '2040047320400473'],\n",
       " ['19fs887zz', '19fs887zz'],\n",
       " ['79f2d32zz', '79f2d32zz'],\n",
       " ['710f2d934', '710f2d934'],\n",
       " ['268f2d785', '268f2d785'],\n",
       " ['932 F Supp !080', '932fp!080'],\n",
       " ['0051/0080', '00510080'],\n",
       " ['732FS665', '732fS665'],\n",
       " ['693FS452', '693fS452'],\n",
       " ['447fs940z', '447fs940z'],\n",
       " ['567fs1531', '567fs1531'],\n",
       " ['0133/0342', '01330342'],\n",
       " ['47fs616zz', '47fs616zz'],\n",
       " ['769FS181', '769fS181']]"
      ]
     },
     "execution_count": 65,
     "metadata": {},
     "output_type": "execute_result"
    }
   ],
   "source": [
    "########################################################################\n",
    "# READ:\n",
    "# This picks a random sample and attempts to translate it into a valid\n",
    "# format using the code in citation_translator.py.\n",
    "# Prints both the sample and the translated output side by side\n",
    "########################################################################\n",
    "\n",
    "import citation_translator as ct\n",
    "\n",
    "sample = filtered_merged_caselevel['priorpub'].sample(20)\n",
    "translated_sample = sample.apply(ct.get_citation_from_priorpub)\n",
    "\n",
    "op = []\n",
    "\n",
    "for s in sample.iteritems():\n",
    "    op.append([s[1]])\n",
    "\n",
    "i = 0\n",
    "for s in translated_sample.iteritems():\n",
    "    op[i].append(s[1])\n",
    "    i += 1\n",
    "\n",
    "op\n"
   ]
  }
 ],
 "metadata": {
  "kernelspec": {
   "display_name": "Python 2",
   "language": "python",
   "name": "python2"
  },
  "language_info": {
   "codemirror_mode": {
    "name": "ipython",
    "version": 2
   },
   "file_extension": ".py",
   "mimetype": "text/x-python",
   "name": "python",
   "nbconvert_exporter": "python",
   "pygments_lexer": "ipython2",
   "version": "2.7.10"
  }
 },
 "nbformat": 4,
 "nbformat_minor": 0
}
