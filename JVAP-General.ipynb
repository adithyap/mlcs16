{
 "cells": [
  {
   "cell_type": "code",
   "execution_count": 41,
   "metadata": {
    "collapsed": true
   },
   "outputs": [],
   "source": [
    "import pandas as pd\n",
    "import numpy as np\n",
    "from sklearn.ensemble import RandomForestClassifier\n",
    "from sklearn.svm import SVC\n",
    "from sklearn.tree import DecisionTreeClassifier\n",
    "from sklearn.grid_search import GridSearchCV\n",
    "from sklearn.metrics import accuracy_score,make_scorer,f1_score,classification_report,average_precision_score\n",
    "from sklearn.preprocessing import Normalizer,MinMaxScaler,StandardScaler,normalize\n",
    "from sklearn.cross_validation import train_test_split\n",
    "import multiprocessing\n",
    "from grid_search_funs import *"
   ]
  },
  {
   "cell_type": "markdown",
   "metadata": {},
   "source": [
    "### Read and clean data"
   ]
  },
  {
   "cell_type": "code",
   "execution_count": 42,
   "metadata": {
    "collapsed": false
   },
   "outputs": [],
   "source": [
    "df_x,df_y = get_data()"
   ]
  },
  {
   "cell_type": "code",
   "execution_count": 43,
   "metadata": {
    "collapsed": true
   },
   "outputs": [],
   "source": [
    "df_x,df_y=remove_bad_rows(df_x,df_y) #drops rows with codej1=codej2, codej2=nan\n",
    "df_x=drop_unneeded_cols(df_x) #drops unneeded cols\n",
    "df_x=drop_dissent(df_x) #drops dissent, concur columns"
   ]
  },
  {
   "cell_type": "code",
   "execution_count": 44,
   "metadata": {
    "collapsed": false
   },
   "outputs": [
    {
     "name": "stdout",
     "output_type": "stream",
     "text": [
      "(111538, 708)\n",
      "(111538, 1)\n"
     ]
    }
   ],
   "source": [
    "#sanity check\n",
    "print df_x.shape\n",
    "print df_y.shape"
   ]
  },
  {
   "cell_type": "code",
   "execution_count": 45,
   "metadata": {
    "collapsed": false
   },
   "outputs": [
    {
     "name": "stdout",
     "output_type": "stream",
     "text": [
      "dropped:  Ads3\n",
      "dropped:  F1Ads3\n",
      "dropped:  F2Ads3\n",
      "dropped:  L1Ads3\n",
      "dropped:  L2Ads3\n",
      "dropped:  L3Ads3\n",
      "dropped:  L4Ads3\n",
      "dropped:  L5Ads3\n",
      "dropped:  Unnamed: 0.1\n",
      "dropped:  appel1\n",
      "dropped:  appel2\n",
      "dropped:  citevol\n",
      "dropped:  codej3\n",
      "dropped:  id\n",
      "dropped:  usc2sect\n",
      "dropped:  usc1sect\n",
      "dropped:  age2\n",
      "dropped:  distjudg\n",
      "dropped:  respond1\n",
      "dropped:  respond2\n",
      "dropped:  yearb\n",
      "dropped:  pred\n",
      "dropped:  csb\n",
      "# of dummy columns:  4342\n",
      "(111538, 685)\n",
      "['___char', 'amicusapp', 'amicusresp', 'casetyp1', 'casetyp2', 'city', 'codej1', 'codej2', 'congresi', 'endyear', 'ls', 'pos2', 'pos3', 'president', 'president_f1', 'president_f2', 'seatno2', 'seatno3', 'senate', 'senate_f1', 'senate_f2', 'sseatno2', 'totalcites']\n",
      "(111538, 5013)\n"
     ]
    }
   ],
   "source": [
    "#dummifies data\n",
    "df_x=dummify(df_x)"
   ]
  },
  {
   "cell_type": "code",
   "execution_count": 46,
   "metadata": {
    "collapsed": true
   },
   "outputs": [],
   "source": [
    "#GET X, Y AS NUMPY ARRAYS\n",
    "\n",
    "X=df_x.values\n",
    "y=df_y.ix[:,0].values"
   ]
  },
  {
   "cell_type": "code",
   "execution_count": 47,
   "metadata": {
    "collapsed": false
   },
   "outputs": [
    {
     "name": "stdout",
     "output_type": "stream",
     "text": [
      "(111538, 5013)\n",
      "(111538,)\n",
      "[[  1.  11.  11. ...,   0.   0.   0.]\n",
      " [  1.  11.  11. ...,   0.   0.   0.]\n",
      " [  1.  11.  11. ...,   0.   0.   0.]\n",
      " ..., \n",
      " [  1.   5.   5. ...,   0.   0.   0.]\n",
      " [  1.   5.   5. ...,   0.   0.   0.]\n",
      " [  1.   5.   5. ...,   0.   0.   0.]]\n",
      "[1 1 1 1 1 1 1 1 1 1]\n"
     ]
    }
   ],
   "source": [
    "#MAKE SURE Y LOOKS LIKE [1 1 1 ... 1 1] (SOMETIMES IT CAN STORE INDICES)\n",
    "\n",
    "print X.shape\n",
    "print y.shape\n",
    "\n",
    "print X[:10]\n",
    "print y[:10]"
   ]
  },
  {
   "cell_type": "markdown",
   "metadata": {},
   "source": [
    "### Split data"
   ]
  },
  {
   "cell_type": "code",
   "execution_count": 48,
   "metadata": {
    "collapsed": false
   },
   "outputs": [],
   "source": [
    "#############################################\n",
    "# Split into training and test set\n",
    "#############################################\n",
    "\n",
    "X_train, X_test, y_train, y_test = train_test_split(X, y, test_size=0.3, random_state=42)\n"
   ]
  },
  {
   "cell_type": "code",
   "execution_count": 51,
   "metadata": {
    "collapsed": false
   },
   "outputs": [
    {
     "name": "stdout",
     "output_type": "stream",
     "text": [
      "<class 'pandas.core.frame.DataFrame'>\n",
      "Int64Index: 111538 entries, 0 to 111537\n",
      "Columns: 5013 entries, ElecYear_AndPrior to totalcites_nan\n",
      "dtypes: float64(5012), int64(1)\n",
      "memory usage: 591.4 MB\n",
      "None\n",
      "Size of X in GB:  4\n"
     ]
    }
   ],
   "source": [
    "#look at size of df_x and X to make sure you have enough RAM\n",
    "\n",
    "print df_x.info()\n",
    "\n",
    "print \"Size of X in GB: \",X.nbytes/1024/1024/1024 #size of X in GB\n"
   ]
  },
  {
   "cell_type": "code",
   "execution_count": 52,
   "metadata": {
    "collapsed": false
   },
   "outputs": [
    {
     "name": "stdout",
     "output_type": "stream",
     "text": [
      "(78076, 5013)\n",
      "(78076,)\n",
      "(33462, 5013)\n",
      "(33462,)\n"
     ]
    }
   ],
   "source": [
    "#check sizes match\n",
    "\n",
    "print X_train.shape\n",
    "print y_train.shape\n",
    "print X_test.shape\n",
    "print y_test.shape\n"
   ]
  },
  {
   "cell_type": "markdown",
   "metadata": {},
   "source": [
    "### Scale features (Do MinMaxScaler)"
   ]
  },
  {
   "cell_type": "code",
   "execution_count": null,
   "metadata": {
    "collapsed": true
   },
   "outputs": [],
   "source": [
    "#DONT DO FOR RANDOM FOREST\n",
    "\n",
    "# #############################################\n",
    "# # Standard scale\n",
    "# #############################################\n",
    "\n",
    "# scaler = StandardScaler()\n",
    "# scaler.fit(X_train)\n",
    "\n",
    "# X_test = scaler.transform(X_test)\n",
    "\n"
   ]
  },
  {
   "cell_type": "code",
   "execution_count": null,
   "metadata": {
    "collapsed": true
   },
   "outputs": [],
   "source": [
    "#DONT DO FOR RANDOM FOREST\n",
    "\n",
    "# #############################################\n",
    "# # Min-Max scale\n",
    "# #############################################\n",
    "\n",
    "# scaler = MinMaxScaler()\n",
    "# scaler.fit(X_train)\n",
    "\n",
    "# X_test = scaler.transform(X_test)\n"
   ]
  },
  {
   "cell_type": "markdown",
   "metadata": {},
   "source": [
    "### Option 1: Do grid search"
   ]
  },
  {
   "cell_type": "code",
   "execution_count": null,
   "metadata": {
    "collapsed": true
   },
   "outputs": [],
   "source": [
    "\n",
    "#############################################\n",
    "# [OPTIONAL]\n",
    "# Random Forest Grid Search\n",
    "#############################################\n",
    "\n",
    "num_cores = multiprocessing.cpu_count()\n",
    "\n",
    "print \"numcores = \", num_cores\n",
    "\n",
    "#modify/add params here you want to search over\n",
    "paramgrid = {'n_estimators': [10, 50, 100, 150, 200], 'max_depth': [1, 5, 10, 15, 20, 25]}\n",
    "\n",
    "rf_clf = RandomForestClassifier(random_state=42)\n",
    "\n",
    "gridclf = grid_search(X_train, y_train, rf_clf, paramgrid, n_jobs=num_cores)\n",
    "\n",
    "print gridclf.best_params_\n",
    "print gridclf.best_score_\n"
   ]
  },
  {
   "cell_type": "code",
   "execution_count": null,
   "metadata": {
    "collapsed": true
   },
   "outputs": [],
   "source": [
    "\n",
    "#############################################\n",
    "# [OPTIONAL] Random Forest (RUN OVER BEST MODEL FROM GRID SEARCH)\n",
    "#############################################\n",
    "\n",
    "# Replace labels (in case SVM was run)\n",
    "# y_train[y_train == 0.] = -1.\n",
    "# y_test[y_test == 0.] = -1.\n",
    "\n",
    "\n",
    "rf_clf = RandomForestClassifier(random_state=42, **gridclf.best_params_)\n",
    "#                                 class_weight={1.0: 1, -1.0: 150})\n",
    "\n",
    "rf_clf.fit(X_train, y_train)\n",
    "\n",
    "y_pred = rf_clf.predict(X_test)\n",
    "\n",
    "print_report(y_test, y_pred)\n",
    "\n",
    "#############################################\n",
    "# [OPTIONAL]\n",
    "# Feature importance analysis\n",
    "#############################################\n",
    "\n",
    "top_n = get_top_n_feats(25, rf_clf.feature_importances_, df_x.columns)\n",
    "\n",
    "for t in top_n:\n",
    "    print t"
   ]
  },
  {
   "cell_type": "markdown",
   "metadata": {},
   "source": [
    "### Option 2: Run individual model (for testing)"
   ]
  },
  {
   "cell_type": "code",
   "execution_count": null,
   "metadata": {
    "collapsed": true
   },
   "outputs": [],
   "source": [
    "#sample random forest run below"
   ]
  },
  {
   "cell_type": "code",
   "execution_count": 37,
   "metadata": {
    "collapsed": true
   },
   "outputs": [],
   "source": [
    "rf_clf = RandomForestClassifier(random_state=42, n_estimators=100, max_depth=15,class_weight={1.0: 1, -1.0: 35})"
   ]
  },
  {
   "cell_type": "code",
   "execution_count": 38,
   "metadata": {
    "collapsed": false
   },
   "outputs": [
    {
     "name": "stdout",
     "output_type": "stream",
     "text": [
      "             precision    recall  f1-score   support\n",
      "\n",
      "         -1       0.18      0.66      0.28      1370\n",
      "          1       0.98      0.87      0.92     32092\n",
      "\n",
      "avg / total       0.95      0.86      0.90     33462\n",
      "\n",
      "CPU times: user 59.2 s, sys: 420 ms, total: 59.7 s\n",
      "Wall time: 59.7 s\n"
     ]
    }
   ],
   "source": [
    "%%time\n",
    "rf_clf.fit(X_train, y_train)\n",
    "\n",
    "y_pred = rf_clf.predict(X_test)\n",
    "\n",
    "print_report(y_test, y_pred)"
   ]
  },
  {
   "cell_type": "code",
   "execution_count": 39,
   "metadata": {
    "collapsed": false
   },
   "outputs": [
    {
     "name": "stdout",
     "output_type": "stream",
     "text": [
      "['Wopinionlenght', '0.0238311762751']\n",
      "['Wlengthopin', '0.0229291335576']\n",
      "['lengthopin', '0.0220870675947']\n",
      "['votingvalence', '0.0181971102661']\n",
      "['Wtotalcites', '0.0134327669155']\n",
      "['opinstat', '0.0108831510041']\n",
      "['propneg', '0.010627325893']\n",
      "['decade2', '0.00923690684669']\n",
      "['d13', '0.00923270714389']\n",
      "['signed', '0.0076670435348']\n",
      "['negativecites', '0.00755880357634']\n",
      "['j3score', '0.00753907933609']\n",
      "['fartherd', '0.00729415435453']\n",
      "['treat', '0.00718588724809']\n",
      "['distance', '0.007172403572']\n",
      "['decade', '0.00698642288304']\n",
      "['pagelgth', '0.00696001031277']\n",
      "['day', '0.00684200675229']\n",
      "['state', '0.00679113479606']\n",
      "['sat_together_count', '0.0067014658775']\n",
      "['j1score', '0.00653692884376']\n",
      "['liberalvote', '0.00641137353297']\n",
      "['j2score', '0.00620303280375']\n",
      "['d12', '0.00602330797119']\n",
      "['d23', '0.00599882287965']\n"
     ]
    }
   ],
   "source": [
    "##prints top 25 features\n",
    "top_n = get_top_n_feats(25, rf_clf.feature_importances_, df_x.columns)\n",
    "\n",
    "for t in top_n:\n",
    "    print t"
   ]
  },
  {
   "cell_type": "code",
   "execution_count": null,
   "metadata": {
    "collapsed": true
   },
   "outputs": [],
   "source": []
  }
 ],
 "metadata": {
  "kernelspec": {
   "display_name": "Python 2",
   "language": "python",
   "name": "python2"
  },
  "language_info": {
   "codemirror_mode": {
    "name": "ipython",
    "version": 2
   },
   "file_extension": ".py",
   "mimetype": "text/x-python",
   "name": "python",
   "nbconvert_exporter": "python",
   "pygments_lexer": "ipython2",
   "version": "2.7.6"
  }
 },
 "nbformat": 4,
 "nbformat_minor": 0
}
