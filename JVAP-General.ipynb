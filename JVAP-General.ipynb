{
 "cells": [
  {
   "cell_type": "code",
   "execution_count": 13,
   "metadata": {
    "collapsed": false
   },
   "outputs": [],
   "source": [
    "import pandas as pd\n",
    "import numpy as np\n",
    "from sklearn.ensemble import RandomForestClassifier\n",
    "from sklearn.svm import SVC\n",
    "from sklearn.tree import DecisionTreeClassifier\n",
    "from sklearn.grid_search import GridSearchCV\n",
    "from sklearn.metrics import accuracy_score,make_scorer,f1_score,classification_report,average_precision_score\n",
    "from sklearn.preprocessing import Normalizer,MinMaxScaler,StandardScaler,normalize\n",
    "from sklearn.cross_validation import train_test_split\n",
    "import multiprocessing\n",
    "import datetime\n",
    "from time import gmtime, strftime\n",
    "from grid_search_funs import *"
   ]
  },
  {
   "cell_type": "code",
   "execution_count": 30,
   "metadata": {
    "collapsed": true
   },
   "outputs": [],
   "source": [
    "def print_log(log_str):\n",
    "    \n",
    "    log_file_name = \"jvap_log.txt\"\n",
    "    \n",
    "    with open(log_file_name, \"a\") as f:\n",
    "        \n",
    "        entry = strftime(\"%Y-%m-%d %H:%M:%S\") + '\\t' + str(log_str) + '\\n'\n",
    "\n",
    "        f.write(entry)\n",
    "\n",
    "        print(entry[:-1])"
   ]
  },
  {
   "cell_type": "markdown",
   "metadata": {},
   "source": [
    "### Read and clean data"
   ]
  },
  {
   "cell_type": "code",
   "execution_count": 16,
   "metadata": {
    "collapsed": false
   },
   "outputs": [],
   "source": [
    "df_x,df_y = get_data(1000)"
   ]
  },
  {
   "cell_type": "code",
   "execution_count": 17,
   "metadata": {
    "collapsed": true
   },
   "outputs": [],
   "source": [
    "df_x,df_y=remove_bad_rows(df_x,df_y) #drops rows with codej1=codej2, codej2=nan\n",
    "df_x=drop_unneeded_cols(df_x) #drops unneeded cols\n",
    "df_x=drop_dissent(df_x) #drops dissent, concur columns"
   ]
  },
  {
   "cell_type": "code",
   "execution_count": 20,
   "metadata": {
    "collapsed": false
   },
   "outputs": [
    {
     "name": "stdout",
     "output_type": "stream",
     "text": [
      "2016-05-11 00:10:54\t((1000, 653), (1000, 1))\n",
      "\n"
     ]
    }
   ],
   "source": [
    "# Sanity check\n",
    "\n",
    "print_log((df_x.shape, df_y.shape))"
   ]
  },
  {
   "cell_type": "code",
   "execution_count": 21,
   "metadata": {
    "collapsed": false
   },
   "outputs": [
    {
     "name": "stdout",
     "output_type": "stream",
     "text": [
      "dropped:  Ads3\n",
      "dropped:  F1Ads3\n",
      "dropped:  F2Ads3\n",
      "dropped:  L1Ads3\n",
      "dropped:  L2Ads3\n",
      "dropped:  L3Ads3\n",
      "dropped:  L4Ads3\n",
      "dropped:  L5Ads3\n",
      "dropped:  Unnamed: 0.1\n",
      "dropped:  appel1\n",
      "dropped:  appel2\n",
      "dropped:  citevol\n",
      "dropped:  codej3\n",
      "dropped:  id\n",
      "dropped:  usc2sect\n",
      "dropped:  usc1sect\n",
      "dropped:  age2\n",
      "dropped:  distjudg\n",
      "dropped:  respond1\n",
      "dropped:  respond2\n",
      "dropped:  yearb\n",
      "dropped:  pred\n",
      "dropped:  csb\n",
      "# of dummy columns:  997\n",
      "(1000, 630)\n",
      "['___char', 'city', 'codej1', 'codej2', 'congresi', 'endyear', 'president', 'president_f1', 'president_f2', 'seatno2', 'senate', 'senate_f1', 'senate_f2', 'sseatno2']\n",
      "(1000, 1621)\n"
     ]
    }
   ],
   "source": [
    "#dummifies data\n",
    "df_x=dummify(df_x)"
   ]
  },
  {
   "cell_type": "code",
   "execution_count": 22,
   "metadata": {
    "collapsed": true
   },
   "outputs": [],
   "source": [
    "#GET X, Y AS NUMPY ARRAYS\n",
    "\n",
    "X = df_x.values\n",
    "y = df_y.ix[:,0].values"
   ]
  },
  {
   "cell_type": "code",
   "execution_count": 23,
   "metadata": {
    "collapsed": false
   },
   "outputs": [
    {
     "name": "stdout",
     "output_type": "stream",
     "text": [
      "2016-05-11 00:12:53\t((1000, 1621), (1000,))\n",
      "\n",
      "2016-05-11 00:12:53\t[[  1.  11.  11. ...,   0.   0.   1.]\n",
      " [  1.  11.  11. ...,   0.   0.   1.]\n",
      " [  1.  11.  11. ...,   0.   0.   1.]\n",
      " ..., \n",
      " [  1.   5.   5. ...,   0.   0.   1.]\n",
      " [  1.   5.   5. ...,   0.   0.   1.]\n",
      " [  1.   5.   5. ...,   0.   0.   1.]]\n",
      "\n",
      "2016-05-11 00:12:53\t[1 1 1 1 1 1 1 1 1 1]\n",
      "\n"
     ]
    }
   ],
   "source": [
    "#MAKE SURE Y LOOKS LIKE [1 1 1 ... 1 1] (SOMETIMES IT CAN STORE INDICES)\n",
    "\n",
    "print_log((X.shape, y.shape))\n",
    "\n",
    "print_log(X[:10])\n",
    "print_log(y[:10])"
   ]
  },
  {
   "cell_type": "markdown",
   "metadata": {},
   "source": [
    "### Split data"
   ]
  },
  {
   "cell_type": "code",
   "execution_count": 24,
   "metadata": {
    "collapsed": false
   },
   "outputs": [],
   "source": [
    "#############################################\n",
    "# Split into training and test set\n",
    "#############################################\n",
    "\n",
    "X_train, X_test, y_train, y_test = train_test_split(X, y, test_size=0.3, random_state=42)\n"
   ]
  },
  {
   "cell_type": "code",
   "execution_count": 25,
   "metadata": {
    "collapsed": false
   },
   "outputs": [
    {
     "name": "stdout",
     "output_type": "stream",
     "text": [
      "<class 'pandas.core.frame.DataFrame'>\n",
      "Int64Index: 1000 entries, 0 to 999\n",
      "Columns: 1621 entries, ElecYear_AndPrior to sseatno2_nan\n",
      "dtypes: float64(1620), int64(1)\n",
      "memory usage: 4.9 MB\n",
      "2016-05-11 00:14:07\tNone\n",
      "\n",
      "2016-05-11 00:14:07\t('Size of X in GB: ', 0.012077391147613525)\n",
      "\n"
     ]
    }
   ],
   "source": [
    "#look at size of df_x and X to make sure you have enough RAM\n",
    "\n",
    "print_log(df_x.info())\n",
    "print_log((\"Size of X in GB: \", (X.nbytes * 1.0)/(1024 * 1024 *1024))) #size of X in GB\n"
   ]
  },
  {
   "cell_type": "code",
   "execution_count": 27,
   "metadata": {
    "collapsed": false
   },
   "outputs": [
    {
     "name": "stdout",
     "output_type": "stream",
     "text": [
      "2016-05-11 00:15:18\t((700, 1621), (700,))\n",
      "\n",
      "2016-05-11 00:15:18\t((300, 1621), (300,))\n",
      "\n"
     ]
    }
   ],
   "source": [
    "#check sizes match\n",
    "\n",
    "print_log((X_train.shape, y_train.shape))\n",
    "print_log((X_test.shape, y_test.shape))\n"
   ]
  },
  {
   "cell_type": "markdown",
   "metadata": {},
   "source": [
    "### Scale features (Do MinMaxScaler)"
   ]
  },
  {
   "cell_type": "code",
   "execution_count": 11,
   "metadata": {
    "collapsed": true
   },
   "outputs": [],
   "source": [
    "#DONT DO FOR RANDOM FOREST\n",
    "\n",
    "# #############################################\n",
    "# # Standard scale\n",
    "# #############################################\n",
    "\n",
    "# scaler = StandardScaler()\n",
    "# scaler.fit(X_train)\n",
    "\n",
    "# X_test = scaler.transform(X_test)\n",
    "\n"
   ]
  },
  {
   "cell_type": "code",
   "execution_count": 12,
   "metadata": {
    "collapsed": true
   },
   "outputs": [],
   "source": [
    "#DONT DO FOR RANDOM FOREST\n",
    "\n",
    "# #############################################\n",
    "# # Min-Max scale\n",
    "# #############################################\n",
    "\n",
    "# scaler = MinMaxScaler()\n",
    "# scaler.fit(X_train)\n",
    "\n",
    "# X_test = scaler.transform(X_test)\n"
   ]
  },
  {
   "cell_type": "markdown",
   "metadata": {},
   "source": [
    "### Option 1: Do grid search"
   ]
  },
  {
   "cell_type": "code",
   "execution_count": 28,
   "metadata": {
    "collapsed": false
   },
   "outputs": [
    {
     "name": "stdout",
     "output_type": "stream",
     "text": [
      "numcores =  8\n",
      "Fitting 3 folds for each of 30 candidates, totalling 90 fits\n"
     ]
    },
    {
     "name": "stderr",
     "output_type": "stream",
     "text": [
      "[Parallel(n_jobs=8)]: Done  34 tasks      | elapsed:    3.7s\n",
      "[Parallel(n_jobs=8)]: Done  90 out of  90 | elapsed:    9.1s finished\n"
     ]
    },
    {
     "name": "stdout",
     "output_type": "stream",
     "text": [
      "2016-05-11 00:18:07\t{'n_estimators': 10, 'max_depth': 15}\n",
      "\n",
      "2016-05-11 00:18:07\t0.988286745008\n",
      "\n"
     ]
    }
   ],
   "source": [
    "\n",
    "#############################################\n",
    "# [OPTIONAL]\n",
    "# Random Forest Grid Search\n",
    "#############################################\n",
    "\n",
    "num_cores = multiprocessing.cpu_count()\n",
    "\n",
    "print \"numcores = \", num_cores\n",
    "\n",
    "#modify/add params here you want to search over\n",
    "param_grid = {'n_estimators': [10, 50, 100, 150, 200], 'max_depth': [1, 5, 10, 15, 20, 25]}\n",
    "\n",
    "\n",
    "rf_clf = RandomForestClassifier(random_state=42)\n",
    "\n",
    "gridclf = grid_search(X=X_train, y=y_train, clf=rf_clf, param_grid=param_grid, n_jobs=num_cores)\n",
    "\n",
    "print_log(gridclf.best_params_)\n",
    "print_log(gridclf.best_score_)\n"
   ]
  },
  {
   "cell_type": "code",
   "execution_count": 31,
   "metadata": {
    "collapsed": false
   },
   "outputs": [
    {
     "name": "stdout",
     "output_type": "stream",
     "text": [
      "2016-05-11 00:21:09\t             precision    recall  f1-score   support\n",
      "\n",
      "         -1       0.40      0.50      0.44         4\n",
      "          1       0.99      0.99      0.99       296\n",
      "\n",
      "avg / total       0.99      0.98      0.98       300\n",
      "\n",
      "2016-05-11 00:21:09\t['oththres', '0.0412653287558']\n",
      "2016-05-11 00:21:09\t['sat_together_count', '0.0330381025049']\n",
      "2016-05-11 00:21:09\t['prejud', '0.029617707081']\n",
      "2016-05-11 00:21:09\t['totalcites', '0.028409232365']\n",
      "2016-05-11 00:21:09\t['juryinst', '0.0254775419026']\n",
      "2016-05-11 00:21:09\t['genapel1', '0.0232928033918']\n",
      "2016-05-11 00:21:09\t['codej2_20402.0', '0.0221868345444']\n",
      "2016-05-11 00:21:09\t['decade2', '0.0211969284101']\n",
      "2016-05-11 00:21:09\t['codej2_328.0', '0.0208969753576']\n",
      "2016-05-11 00:21:09\t['state', '0.0204939247085']\n",
      "2016-05-11 00:21:09\t['codej2_10352.0', '0.019636016877']\n",
      "2016-05-11 00:21:09\t['codej1_929.0', '0.0194634204728']\n",
      "2016-05-11 00:21:09\t['caseload', '0.0189764681383']\n",
      "2016-05-11 00:21:09\t['Wtotalcites', '0.0188525087581']\n",
      "2016-05-11 00:21:09\t['codej2_20977.0', '0.0182536501705']\n",
      "2016-05-11 00:21:09\t['codej1_813.0', '0.0177651244594']\n",
      "2016-05-11 00:21:09\t['codej2_605.0', '0.0173597891667']\n",
      "2016-05-11 00:21:09\t['j2score', '0.0168975404296']\n",
      "2016-05-11 00:21:09\t['_Iyear_1929', '0.0165093448537']\n",
      "2016-05-11 00:21:09\t['codej2_318.0', '0.0163128408385']\n",
      "2016-05-11 00:21:09\t['treat', '0.0144505734954']\n",
      "2016-05-11 00:21:09\t['r_fed', '0.0136054421769']\n",
      "2016-05-11 00:21:09\t['_Iyear_1974', '0.0131489716226']\n",
      "2016-05-11 00:21:09\t['codej2_10837.0', '0.0131400013685']\n",
      "2016-05-11 00:21:09\t['counsel2', '0.0127750939345']\n"
     ]
    }
   ],
   "source": [
    "\n",
    "#############################################\n",
    "# [OPTIONAL] Random Forest (RUN OVER BEST MODEL FROM GRID SEARCH)\n",
    "#############################################\n",
    "\n",
    "# Replace labels (in case SVM was run)\n",
    "# y_train[y_train == 0.] = -1.\n",
    "# y_test[y_test == 0.] = -1.\n",
    "\n",
    "\n",
    "rf_clf = RandomForestClassifier(random_state=42, **gridclf.best_params_)\n",
    "#                                 class_weight={1.0: 1, -1.0: 150})\n",
    "\n",
    "rf_clf.fit(X_train, y_train)\n",
    "\n",
    "y_pred = rf_clf.predict(X_test)\n",
    "\n",
    "print_log(classification_report(y_test, y_pred))\n",
    "\n",
    "#############################################\n",
    "# [OPTIONAL]\n",
    "# Feature importance analysis\n",
    "#############################################\n",
    "\n",
    "top_n = get_top_n_feats(25, rf_clf.feature_importances_, df_x.columns)\n",
    "\n",
    "for t in top_n:\n",
    "    print_log(t)"
   ]
  },
  {
   "cell_type": "markdown",
   "metadata": {},
   "source": [
    "### Option 2: Run individual model (for testing)"
   ]
  },
  {
   "cell_type": "code",
   "execution_count": 15,
   "metadata": {
    "collapsed": true
   },
   "outputs": [],
   "source": [
    "#sample random forest run below"
   ]
  },
  {
   "cell_type": "code",
   "execution_count": 16,
   "metadata": {
    "collapsed": true
   },
   "outputs": [],
   "source": [
    "rf_clf = RandomForestClassifier(random_state=42, n_estimators=100, max_depth=15,class_weight={1.0: 1, -1.0: 35})"
   ]
  },
  {
   "cell_type": "code",
   "execution_count": 17,
   "metadata": {
    "collapsed": false
   },
   "outputs": [
    {
     "name": "stdout",
     "output_type": "stream",
     "text": [
      "             precision    recall  f1-score   support\n",
      "\n",
      "         -1       0.40      0.50      0.44         4\n",
      "          1       0.99      0.99      0.99       296\n",
      "\n",
      "avg / total       0.99      0.98      0.98       300\n",
      "\n",
      "CPU times: user 262 ms, sys: 4 ms, total: 266 ms\n",
      "Wall time: 264 ms\n"
     ]
    }
   ],
   "source": [
    "%%time\n",
    "rf_clf.fit(X_train, y_train)\n",
    "\n",
    "y_pred = rf_clf.predict(X_test)\n",
    "\n",
    "print_log(classification_report(y_test, y_pred))"
   ]
  },
  {
   "cell_type": "code",
   "execution_count": 18,
   "metadata": {
    "collapsed": false
   },
   "outputs": [
    {
     "name": "stdout",
     "output_type": "stream",
     "text": [
      "['totalcites', '0.030548071939']\n",
      "['prejud', '0.0263864284649']\n",
      "['Wtotalcites', '0.0241080182892']\n",
      "['j2score', '0.0204876453575']\n",
      "['genapel2', '0.0186087358415']\n",
      "['bank_ap2', '0.017230026499']\n",
      "['popularpct', '0.0172065013808']\n",
      "['day', '0.0169206167912']\n",
      "['state', '0.0153712760024']\n",
      "['district', '0.0152810958649']\n",
      "['electoralpct', '0.0136923519334']\n",
      "['_Iquarter_2', '0.0132653628724']\n",
      "['applfrom', '0.0123476434609']\n",
      "['casetyp1', '0.0122440947296']\n",
      "['genresp2', '0.012081591366']\n",
      "['decade', '0.0112540088449']\n",
      "['othadmis', '0.0109070951253']\n",
      "['distance', '0.0101321616979']\n",
      "['propneg', '0.0101160234641']\n",
      "['repres', '0.00966612809742']\n",
      "['month', '0.00927770277668']\n",
      "['treat', '0.00927029888949']\n",
      "['multdoc', '0.00887887791631']\n",
      "['negativecites', '0.00850748368554']\n",
      "['semiannumtoelect', '0.00845184709227']\n"
     ]
    }
   ],
   "source": [
    "##prints top 25 features\n",
    "top_n = get_top_n_feats(25, rf_clf.feature_importances_, df_x.columns)\n",
    "\n",
    "for t in top_n:\n",
    "    print_log(t)"
   ]
  },
  {
   "cell_type": "code",
   "execution_count": null,
   "metadata": {
    "collapsed": true
   },
   "outputs": [],
   "source": []
  }
 ],
 "metadata": {
  "kernelspec": {
   "display_name": "Python 2",
   "language": "python",
   "name": "python2"
  },
  "language_info": {
   "codemirror_mode": {
    "name": "ipython",
    "version": 2
   },
   "file_extension": ".py",
   "mimetype": "text/x-python",
   "name": "python",
   "nbconvert_exporter": "python",
   "pygments_lexer": "ipython2",
   "version": "2.7.10"
  }
 },
 "nbformat": 4,
 "nbformat_minor": 0
}
