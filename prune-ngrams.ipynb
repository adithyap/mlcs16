{
 "cells": [
  {
   "cell_type": "code",
   "execution_count": 1,
   "metadata": {
    "collapsed": true
   },
   "outputs": [],
   "source": [
    "import pandas as pd\n",
    "import numpy as np\n",
    "import matplotlib.pyplot as plt\n",
    "%matplotlib inline"
   ]
  },
  {
   "cell_type": "code",
   "execution_count": 11,
   "metadata": {
    "collapsed": false
   },
   "outputs": [
    {
     "name": "stdout",
     "output_type": "stream",
     "text": [
      "100caselevel_touse.dta\tdocvec_text\t\t   qx344\r\n",
      "100Votelevel_touse.dta\tgraph.csv\t\t   Untitled.ipynb\r\n",
      "auburn_appct_stata\tmerged_caselevel_data.csv  vocab_map_text\r\n",
      "caselevel_touse.dta\tpine_guthrie_code\t   Votelevel_stuffjan2013.dta\r\n"
     ]
    }
   ],
   "source": [
    "!ls ../raw/"
   ]
  },
  {
   "cell_type": "code",
   "execution_count": 12,
   "metadata": {
    "collapsed": true
   },
   "outputs": [],
   "source": [
    "graph = pd.read_csv('../raw/graph.csv',nrows=1000)"
   ]
  },
  {
   "cell_type": "code",
   "execution_count": 13,
   "metadata": {
    "collapsed": false
   },
   "outputs": [
    {
     "name": "stdout",
     "output_type": "stream",
     "text": [
      "46325156 ../raw/graph.csv\r\n"
     ]
    }
   ],
   "source": [
    "!wc -l ../raw/graph.csv"
   ]
  },
  {
   "cell_type": "code",
   "execution_count": 14,
   "metadata": {
    "collapsed": false
   },
   "outputs": [
    {
     "data": {
      "text/html": [
       "<div style=\"max-height:1000px;max-width:1500px;overflow:auto;\">\n",
       "<table border=\"1\" class=\"dataframe\">\n",
       "  <thead>\n",
       "    <tr style=\"text-align: right;\">\n",
       "      <th></th>\n",
       "      <th>year</th>\n",
       "      <th>source</th>\n",
       "      <th>sink</th>\n",
       "      <th>text</th>\n",
       "    </tr>\n",
       "  </thead>\n",
       "  <tbody>\n",
       "    <tr>\n",
       "      <th>0</th>\n",
       "      <td> 1880_complete</td>\n",
       "      <td> XB0P5FQNB5G0</td>\n",
       "      <td> XFJCTF</td>\n",
       "      <td> &lt;p class=\"level\" align=\"\" style=\"text-indent: ...</td>\n",
       "    </tr>\n",
       "    <tr>\n",
       "      <th>1</th>\n",
       "      <td> 1880_complete</td>\n",
       "      <td> XDOL27QNB5G0</td>\n",
       "      <td> XFJBG1</td>\n",
       "      <td> &lt;p class=\"level\" align=\"\" style=\"text-indent: ...</td>\n",
       "    </tr>\n",
       "    <tr>\n",
       "      <th>2</th>\n",
       "      <td> 1880_complete</td>\n",
       "      <td> XDOL27QNB5G0</td>\n",
       "      <td> XFJC27</td>\n",
       "      <td> &lt;p class=\"level\" align=\"\" style=\"text-indent: ...</td>\n",
       "    </tr>\n",
       "    <tr>\n",
       "      <th>3</th>\n",
       "      <td> 1880_complete</td>\n",
       "      <td> XDOL7RQNB5G0</td>\n",
       "      <td> XFJCJR</td>\n",
       "      <td> &lt;p class=\"level\" align=\"\" style=\"text-indent: ...</td>\n",
       "    </tr>\n",
       "    <tr>\n",
       "      <th>4</th>\n",
       "      <td> 1880_complete</td>\n",
       "      <td>       XFIIQD</td>\n",
       "      <td> XFKDFI</td>\n",
       "      <td> &lt;p class=\"level\" align=\"\" style=\"text-indent: ...</td>\n",
       "    </tr>\n",
       "  </tbody>\n",
       "</table>\n",
       "</div>"
      ],
      "text/plain": [
       "            year        source    sink  \\\n",
       "0  1880_complete  XB0P5FQNB5G0  XFJCTF   \n",
       "1  1880_complete  XDOL27QNB5G0  XFJBG1   \n",
       "2  1880_complete  XDOL27QNB5G0  XFJC27   \n",
       "3  1880_complete  XDOL7RQNB5G0  XFJCJR   \n",
       "4  1880_complete        XFIIQD  XFKDFI   \n",
       "\n",
       "                                                text  \n",
       "0  <p class=\"level\" align=\"\" style=\"text-indent: ...  \n",
       "1  <p class=\"level\" align=\"\" style=\"text-indent: ...  \n",
       "2  <p class=\"level\" align=\"\" style=\"text-indent: ...  \n",
       "3  <p class=\"level\" align=\"\" style=\"text-indent: ...  \n",
       "4  <p class=\"level\" align=\"\" style=\"text-indent: ...  "
      ]
     },
     "execution_count": 14,
     "metadata": {},
     "output_type": "execute_result"
    }
   ],
   "source": [
    "graph.head()"
   ]
  },
  {
   "cell_type": "code",
   "execution_count": 18,
   "metadata": {
    "collapsed": false
   },
   "outputs": [
    {
     "data": {
      "text/html": [
       "<div style=\"max-height:1000px;max-width:1500px;overflow:auto;\">\n",
       "<table border=\"1\" class=\"dataframe\">\n",
       "  <thead>\n",
       "    <tr style=\"text-align: right;\">\n",
       "      <th></th>\n",
       "      <th>year</th>\n",
       "      <th>source</th>\n",
       "      <th>sink</th>\n",
       "      <th>text</th>\n",
       "    </tr>\n",
       "  </thead>\n",
       "  <tbody>\n",
       "    <tr>\n",
       "      <th>0</th>\n",
       "      <td> 1880_complete</td>\n",
       "      <td> XB0P5FQNB5G0</td>\n",
       "      <td> XFJCTF</td>\n",
       "      <td> &lt;p class=\"level\" align=\"\" style=\"text-indent: ...</td>\n",
       "    </tr>\n",
       "  </tbody>\n",
       "</table>\n",
       "</div>"
      ],
      "text/plain": [
       "            year        source    sink  \\\n",
       "0  1880_complete  XB0P5FQNB5G0  XFJCTF   \n",
       "\n",
       "                                                text  \n",
       "0  <p class=\"level\" align=\"\" style=\"text-indent: ...  "
      ]
     },
     "execution_count": 18,
     "metadata": {},
     "output_type": "execute_result"
    }
   ],
   "source": [
    "graph[graph.source=='XB0P5FQNB5G0']"
   ]
  },
  {
   "cell_type": "code",
   "execution_count": null,
   "metadata": {
    "collapsed": true
   },
   "outputs": [],
   "source": []
  }
 ],
 "metadata": {
  "kernelspec": {
   "display_name": "Python 2",
   "language": "python",
   "name": "python2"
  },
  "language_info": {
   "codemirror_mode": {
    "name": "ipython",
    "version": 2
   },
   "file_extension": ".py",
   "mimetype": "text/x-python",
   "name": "python",
   "nbconvert_exporter": "python",
   "pygments_lexer": "ipython2",
   "version": "2.7.6"
  }
 },
 "nbformat": 4,
 "nbformat_minor": 0
}
