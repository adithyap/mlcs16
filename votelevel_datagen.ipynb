{
 "cells": [
  {
   "cell_type": "code",
   "execution_count": 3,
   "metadata": {
    "collapsed": true
   },
   "outputs": [],
   "source": [
    "import pandas as pd\n",
    "import numpy as np\n",
    "from copy import deepcopy\n",
    "import time\n",
    "from joblib import Parallel, delayed\n",
    "import multiprocessing\n",
    "import resource\n",
    "import gc"
   ]
  },
  {
   "cell_type": "code",
   "execution_count": 4,
   "metadata": {
    "collapsed": true
   },
   "outputs": [],
   "source": [
    "def remove_column_from_data_frame(col_to_remove, data_frame):\n",
    "\n",
    "    if col_to_remove in list(data_frame.columns):\n",
    "        data_frame.drop(col_to_remove, axis=1, inplace=True)"
   ]
  },
  {
   "cell_type": "code",
   "execution_count": 5,
   "metadata": {
    "collapsed": true
   },
   "outputs": [],
   "source": [
    "def remove_columns_from_data_frame(cols_to_remove, data_frame):\n",
    "\n",
    "    column_dict = {x: None for x in list(data_frame.columns)}\n",
    "\n",
    "    cols_to_remove = [x for x in cols_to_remove if x in column_dict]\n",
    "\n",
    "    df.drop(labels=cols_to_remove, axis=1, inplace=True)"
   ]
  },
  {
   "cell_type": "code",
   "execution_count": 6,
   "metadata": {
    "collapsed": true
   },
   "outputs": [],
   "source": [
    "def print_resource_usage():\n",
    "    \n",
    "    print (resource.getrusage(resource.RUSAGE_SELF).ru_maxrss) / (1.0 * 1e6)"
   ]
  },
  {
   "cell_type": "code",
   "execution_count": 7,
   "metadata": {
    "collapsed": true
   },
   "outputs": [],
   "source": [
    "def get_redundant_columns(data_frame, to_exclude):\n",
    "\n",
    "    return [x for x in list(data_frame.columns) \n",
    "            if (len(pd.unique(data_frame[x])) == 1 and x not in to_exclude)]"
   ]
  },
  {
   "cell_type": "code",
   "execution_count": 8,
   "metadata": {
    "collapsed": true
   },
   "outputs": [],
   "source": [
    "def get_drop_list(data_frame):\n",
    "\n",
    "    droplist = ['docketnumber','citation','JudgeCONCURRING','JudgeDissentingTouse',\n",
    "                'songername', 'jOrigname','dissentdate','JudgesListTouse',\n",
    "                'Judgeconcurring','dateamended','month','day','AmendedDate',\n",
    "                'distanceAM','quartertoelectAM','JudgeDISSENTING1','JudgeDISSENTING2',\n",
    "                'Author','AppointmentDate1','TerminationDate1','RecessAppointDate1',\n",
    "                'AppointmentDate2','TerminationDate2','RecessAppointDate2',\n",
    "                'AppointmentDate3','TerminationDate3','AppointmentDate','TerminationDate',\n",
    "                'SenateConfirmationdate','RecessAppointDate','birthday','birthyear',\n",
    "                'birthmonth','deathmonth','deathday','deathyear','judgelastname',\n",
    "                'judgefirstname','judgemiddlename','retirementfromactiveservice','degreeyear1',\n",
    "                'degreeyear2','degreeyear3','degreeyear4','vicelastnamepredecessor',\n",
    "                'vicefirstnamepredecessor','hearings','placeofdeathcity','deathdate',\n",
    "                'dateoftermination']\n",
    "\n",
    "    droplist += ['MajOpinionWordCount','MajSelfCertainWords','minOpinionWordCount1',\n",
    "                'MinSelfCertainWords1','ConcurenceWordCount1','ConcurSelfCertainWords1',\n",
    "                'minOpinionWordCount2','MinSelfCertainWords2','ConcurenceWordCount2',\n",
    "                'ConcurSelfCertainWords2','senatevoteayesnays']\n",
    "\n",
    "    droplist += ['dissentOrconcurCaseid','yearq','Circuitjudge1','Circuitjudge2','id',\n",
    "                'nominationdatesenateexecutivej','recessappointmentdate', 'committeeactiondate',\n",
    "                'senatevotedateconfirmationdate','commissiondate','startdate','BecameSenior']\n",
    "\n",
    "    droplist += ['RecessAppointDate4','AppointmentDate5','TerminationDate5',\n",
    "                'RecessAppointDate5','AppointmentDate6','TerminationDate6',\n",
    "                'RecessAppointDate6','RecessAppointDate3']\n",
    "\n",
    "    return droplist + get_redundant_columns(data_frame, ['Dissenting1'])"
   ]
  },
  {
   "cell_type": "code",
   "execution_count": 9,
   "metadata": {
    "collapsed": true
   },
   "outputs": [],
   "source": [
    "def drop_columns(data_frame):\n",
    "\n",
    "    remove_columns_from_data_frame(get_drop_list(data_frame), data_frame)\n"
   ]
  },
  {
   "cell_type": "code",
   "execution_count": 10,
   "metadata": {
    "collapsed": true
   },
   "outputs": [],
   "source": [
    "def for_voting(caseLIST, st, end):\n",
    "\n",
    "#     if end > Length:\n",
    "#          end = Length\n",
    "            \n",
    "#     print st,end\n",
    "    \n",
    "    newframe=pd.DataFrame()\n",
    "    output=[]\n",
    "    for case in caseList:\n",
    "        temper=np.where(df.caseid==case)\n",
    "        temper=(temper[0]).tolist()\n",
    "        for i in range(len(temper)):\n",
    "            for j in [1,2]:            \n",
    "                for term in copylist:\n",
    "                    name='%sANO'%(term)\n",
    "                    df.loc[temper[i],name]=df.ix[temper[i-j],term]\n",
    "                newframe=newframe.append(df.ix[temper[i]])\n",
    "        if df.loc[temper[0],'Dissenting1']==0:      ## if dissenting is 0, no one disagree\n",
    "           output=output+[0,0,0,0,0,0]\n",
    "        else :\n",
    "           a=df.loc[temper[0],'Dissenting1']        ## otherwise, find the one with 'j' value equal to Dissent1\n",
    "           for i in range(len(temper)):             ##  'j' value correspond to the judge in that row, \n",
    "               if a==df.loc[temper[i],'j']:         ## take values 1,2,3\n",
    "                   output=output+[1,1]\n",
    "               elif a==df.loc[temper[i-1],'j']:\n",
    "                   output=output+[1,0]\n",
    "               elif a==df.loc[temper[i-2],'j']:\n",
    "                   output=output+[0,1]\n",
    "    \n",
    "    \n",
    "    assert newframe.shape[0]==len(output)   \n",
    "    filename=\"tryvoting%i.csv\"%(st)\n",
    "    filename2=\"tryvoteoutput%i.csv\"%(st)\n",
    "    newframe.to_csv(filename)\n",
    "    (pd.DataFrame(output)).to_csv(filename2)\n",
    "    return output"
   ]
  },
  {
   "cell_type": "code",
   "execution_count": 11,
   "metadata": {
    "collapsed": true
   },
   "outputs": [],
   "source": [
    "def run_parallel_jobs():\n",
    "\n",
    "    numarray=[]\n",
    "    i = 0\n",
    "    while i < Length:\n",
    "        numarray.append(i)\n",
    "        i = i + 1000\n",
    "\n",
    "    print numarray\n",
    "\n",
    "    num_cores = multiprocessing.cpu_count()\n",
    "\n",
    "    jobs = Parallel(n_jobs=num_cores)(delayed(for_voting)(caseList, a, a + 1000) for a in numarray)"
   ]
  },
  {
   "cell_type": "code",
   "execution_count": 12,
   "metadata": {
    "collapsed": true
   },
   "outputs": [],
   "source": [
    "def main():\n",
    "\n",
    "    df = pd.read_csv('BloombergVOTELEVEL_Touse_mini.csv', nrows=42000)\n",
    "\n",
    "    print_resource_usage()\n",
    "    \n",
    "    # This value tells which judge (1, 2 or 3) disagree the other\n",
    "    df.Dissenting1 = df.Dissenting1.fillna(value=0)\n",
    "\n",
    "    copylist = get_columns_after_feature(df, 'Term')\n",
    "    copylist.append('judgeidentificationnumber')\n",
    "\n",
    "    caseList = pd.unique(df['caseid'])\n",
    "    caseList = caseList[pd.notnull(caseList)].tolist()\n",
    "\n",
    "    Length = len(caseList)"
   ]
  },
  {
   "cell_type": "code",
   "execution_count": 13,
   "metadata": {
    "collapsed": false
   },
   "outputs": [],
   "source": [
    "def get_columns_after_feature(data_frame, feature):\n",
    "    \n",
    "    columns = list(df.columns)\n",
    "    \n",
    "    return df.columns.tolist()[columns.index(feature):]\n",
    "    "
   ]
  },
  {
   "cell_type": "code",
   "execution_count": 14,
   "metadata": {
    "collapsed": true
   },
   "outputs": [],
   "source": [
    "def isNaN(num):\n",
    "    return num != num"
   ]
  },
  {
   "cell_type": "code",
   "execution_count": 15,
   "metadata": {
    "collapsed": false
   },
   "outputs": [],
   "source": [
    "df = pd.read_csv('BloombergVOTELEVEL_Touse_mini.csv', low_memory=False, nrows=100)"
   ]
  },
  {
   "cell_type": "code",
   "execution_count": 16,
   "metadata": {
    "collapsed": true
   },
   "outputs": [],
   "source": [
    "drop_columns(df)"
   ]
  },
  {
   "cell_type": "code",
   "execution_count": 17,
   "metadata": {
    "collapsed": true
   },
   "outputs": [],
   "source": [
    "caseList = pd.unique(df['caseid'])\n",
    "caseList = caseList[pd.notnull(caseList)].tolist()"
   ]
  },
  {
   "cell_type": "code",
   "execution_count": 18,
   "metadata": {
    "collapsed": false
   },
   "outputs": [],
   "source": [
    "df.Dissenting1 = df.Dissenting1.fillna(value=0)"
   ]
  },
  {
   "cell_type": "code",
   "execution_count": 19,
   "metadata": {
    "collapsed": true
   },
   "outputs": [],
   "source": [
    "copylist = get_columns_after_feature(df, 'Term')\n",
    "copylist.append('judgeidentificationnumber')"
   ]
  },
  {
   "cell_type": "code",
   "execution_count": 23,
   "metadata": {
    "collapsed": false
   },
   "outputs": [
    {
     "ename": "IndexError",
     "evalue": "list index out of range",
     "output_type": "error",
     "traceback": [
      "\u001b[0;31m---------------------------------------------------------------------------\u001b[0m",
      "\u001b[0;31mIndexError\u001b[0m                                Traceback (most recent call last)",
      "\u001b[0;32m<ipython-input-23-eb55a3f6b0b2>\u001b[0m in \u001b[0;36m<module>\u001b[0;34m()\u001b[0m\n\u001b[1;32m     17\u001b[0m             \u001b[0;32mfor\u001b[0m \u001b[0mterm\u001b[0m \u001b[0;32min\u001b[0m \u001b[0mcopylist\u001b[0m\u001b[0;34m:\u001b[0m\u001b[0;34m\u001b[0m\u001b[0m\n\u001b[1;32m     18\u001b[0m                 \u001b[0mname\u001b[0m\u001b[0;34m=\u001b[0m\u001b[0;34m'%sANO'\u001b[0m\u001b[0;34m%\u001b[0m\u001b[0;34m(\u001b[0m\u001b[0mterm\u001b[0m\u001b[0;34m)\u001b[0m\u001b[0;34m\u001b[0m\u001b[0m\n\u001b[0;32m---> 19\u001b[0;31m                 \u001b[0mdf\u001b[0m\u001b[0;34m.\u001b[0m\u001b[0mloc\u001b[0m\u001b[0;34m[\u001b[0m\u001b[0mtemper\u001b[0m\u001b[0;34m[\u001b[0m\u001b[0mi\u001b[0m\u001b[0;34m]\u001b[0m\u001b[0;34m,\u001b[0m \u001b[0mname\u001b[0m\u001b[0;34m]\u001b[0m \u001b[0;34m=\u001b[0m \u001b[0mdf\u001b[0m\u001b[0;34m.\u001b[0m\u001b[0mix\u001b[0m\u001b[0;34m[\u001b[0m \u001b[0mtemper\u001b[0m\u001b[0;34m[\u001b[0m\u001b[0mi\u001b[0m \u001b[0;34m-\u001b[0m \u001b[0mj\u001b[0m\u001b[0;34m]\u001b[0m\u001b[0;34m,\u001b[0m \u001b[0mterm\u001b[0m \u001b[0;34m]\u001b[0m\u001b[0;34m\u001b[0m\u001b[0m\n\u001b[0m\u001b[1;32m     20\u001b[0m \u001b[0;34m\u001b[0m\u001b[0m\n\u001b[1;32m     21\u001b[0m             \u001b[0mto_append\u001b[0m\u001b[0;34m.\u001b[0m\u001b[0mappend\u001b[0m\u001b[0;34m(\u001b[0m\u001b[0mdf\u001b[0m\u001b[0;34m.\u001b[0m\u001b[0mix\u001b[0m\u001b[0;34m[\u001b[0m\u001b[0mtemper\u001b[0m\u001b[0;34m[\u001b[0m\u001b[0mi\u001b[0m\u001b[0;34m]\u001b[0m\u001b[0;34m]\u001b[0m\u001b[0;34m)\u001b[0m\u001b[0;34m\u001b[0m\u001b[0m\n",
      "\u001b[0;31mIndexError\u001b[0m: list index out of range"
     ]
    }
   ],
   "source": [
    "# %%time\n",
    "\n",
    "newframe=pd.DataFrame()\n",
    "\n",
    "output=[]\n",
    "\n",
    "for case in caseList:\n",
    "    \n",
    "    temper = np.where(df.caseid==case)\n",
    "    temper = (temper[0]).tolist()\n",
    "\n",
    "    to_append = []\n",
    "    \n",
    "    for i in range(len(temper)):\n",
    "\n",
    "        for j in [1,2]:\n",
    "            for term in copylist:\n",
    "                name='%sANO'%(term)\n",
    "                df.loc[temper[i], name] = df.ix[ temper[i - j], term ]\n",
    "            \n",
    "            to_append.append(df.ix[temper[i]])\n",
    "            \n",
    "    newframe = newframe.append(to_append)\n",
    "\n",
    "    if df.loc[temper[0],'Dissenting1'] == 0:      ## if dissenting is 0, no one disagree\n",
    "       output=output+[0,0,0,0,0,0]\n",
    "    else :\n",
    "       a = df.loc[temper[0],'Dissenting1']        ## otherwise, find the one with 'j' value equal to Dissent1\n",
    "       for i in range(len(temper)):               ## 'j' value correspond to the judge in that row, \n",
    "           if a == df.loc[temper[i],'j']:         ## take values 1,2,3\n",
    "               output = output + [1,1]\n",
    "           elif a==df.loc[temper[i-1],'j']:\n",
    "               output=output+[1,0]\n",
    "           elif a==df.loc[temper[i-2],'j']:\n",
    "               output=output+[0,1]\n",
    "                \n",
    "# newframe.to_csv('test.csv')\n",
    "# np.savetxt('test.out.csv', output, delimiter=',') "
   ]
  }
 ],
 "metadata": {
  "kernelspec": {
   "display_name": "Python 2",
   "language": "python",
   "name": "python2"
  },
  "language_info": {
   "codemirror_mode": {
    "name": "ipython",
    "version": 2
   },
   "file_extension": ".py",
   "mimetype": "text/x-python",
   "name": "python",
   "nbconvert_exporter": "python",
   "pygments_lexer": "ipython2",
   "version": "2.7.10"
  }
 },
 "nbformat": 4,
 "nbformat_minor": 0
}
