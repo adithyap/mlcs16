{
 "cells": [
  {
   "cell_type": "code",
   "execution_count": 134,
   "metadata": {
    "collapsed": false
   },
   "outputs": [],
   "source": [
    "%matplotlib inline\n",
    "import pandas as pd\n",
    "import numpy as np\n",
    "from sklearn.ensemble import RandomForestClassifier\n",
    "from sklearn.svm import SVC\n",
    "from sklearn.tree import DecisionTreeClassifier\n",
    "from sklearn.grid_search import GridSearchCV\n",
    "from sklearn.metrics import accuracy_score,make_scorer,f1_score,classification_report\n",
    "from sklearn.preprocessing import Normalizer,MinMaxScaler,StandardScaler,normalize\n",
    "from sklearn.cross_validation import train_test_split"
   ]
  },
  {
   "cell_type": "code",
   "execution_count": 135,
   "metadata": {
    "collapsed": false
   },
   "outputs": [],
   "source": [
    "pd.set_option('max_columns',1000)"
   ]
  },
  {
   "cell_type": "code",
   "execution_count": 155,
   "metadata": {
    "collapsed": false
   },
   "outputs": [],
   "source": [
    "# df = pd.read_csv('../merged_caselevel_data.csv')\n",
    "df = pd.get_dummies(pd.read_csv('final_feats_without_dummies.csv', low_memory=False))"
   ]
  },
  {
   "cell_type": "code",
   "execution_count": 156,
   "metadata": {
    "collapsed": false
   },
   "outputs": [],
   "source": [
    "df_y = df['dissentdummy'] #should be called 'label'. this is dummy"
   ]
  },
  {
   "cell_type": "code",
   "execution_count": 157,
   "metadata": {
    "collapsed": false
   },
   "outputs": [],
   "source": [
    "col_names = list(df.columns)\n",
    "\n",
    "for col_name in col_names:\n",
    "    if 'diss' in col_name:\n",
    "        df.drop(col_name, axis=1, inplace=True)\n",
    "        \n",
    "\n",
    "df.drop('Unnamed: 0', axis=1, inplace=True)\n",
    "# df.drop('dissentdummy', axis=1, inplace=True)\n",
    "# df.drop('dissent', axis=1, inplace=True)\n",
    "\n",
    "# to_drop_cols = ['unan', 'unanimous', 'dissentvalence', 'dissentvote', 'liberaldissent',\n",
    "#            'dissmerdummy', 'dissmer', 'concur', 'concurdummy', 'diss0promerdummy']\n",
    "\n",
    "# for to_drop in to_drop_cols:\n",
    "#     df.drop(to_drop, axis=1, inplace=True)\n",
    "    \n",
    "\n",
    "\n"
   ]
  },
  {
   "cell_type": "code",
   "execution_count": 158,
   "metadata": {
    "collapsed": false
   },
   "outputs": [],
   "source": [
    "#fill na's\n",
    "df.fillna(0, inplace=True)"
   ]
  },
  {
   "cell_type": "code",
   "execution_count": 159,
   "metadata": {
    "collapsed": false
   },
   "outputs": [],
   "source": [
    "X=df.values\n",
    "y=df_y.values"
   ]
  },
  {
   "cell_type": "code",
   "execution_count": 160,
   "metadata": {
    "collapsed": true
   },
   "outputs": [],
   "source": [
    "X_tr,X_te,y_tr,y_te=train_test_split(X,y,test_size=0.5,random_state=7)"
   ]
  },
  {
   "cell_type": "code",
   "execution_count": 161,
   "metadata": {
    "collapsed": false
   },
   "outputs": [
    {
     "name": "stdout",
     "output_type": "stream",
     "text": [
      "(55833, 939)\n",
      "(55833,)\n",
      "(55833, 939)\n",
      "(55833,)\n"
     ]
    }
   ],
   "source": [
    "print X_tr.shape\n",
    "print y_tr.shape\n",
    "print X_te.shape\n",
    "print y_te.shape"
   ]
  },
  {
   "cell_type": "code",
   "execution_count": 162,
   "metadata": {
    "collapsed": false
   },
   "outputs": [],
   "source": [
    "##normalize train/test data\n",
    "scaler = StandardScaler()\n",
    "scaler.fit(X_tr)\n",
    "# print X_te[:10]\n",
    "# print x_mean.shape\n",
    "X_te = scaler.transform(X_te)\n",
    "# print X_te[:10]"
   ]
  },
  {
   "cell_type": "code",
   "execution_count": 163,
   "metadata": {
    "collapsed": false
   },
   "outputs": [],
   "source": [
    "paramgrid={'n_estimators':[10,50,100],'max_depth':[1,5,10,15]}"
   ]
  },
  {
   "cell_type": "code",
   "execution_count": 164,
   "metadata": {
    "collapsed": true
   },
   "outputs": [],
   "source": [
    "rf_clf=RandomForestClassifier(random_state=42)"
   ]
  },
  {
   "cell_type": "code",
   "execution_count": 165,
   "metadata": {
    "collapsed": true
   },
   "outputs": [],
   "source": [
    "scorer=make_scorer(accuracy_score)"
   ]
  },
  {
   "cell_type": "code",
   "execution_count": 166,
   "metadata": {
    "collapsed": false
   },
   "outputs": [
    {
     "name": "stdout",
     "output_type": "stream",
     "text": [
      "CPU times: user 35 µs, sys: 9 µs, total: 44 µs\n",
      "Wall time: 39.1 µs\n"
     ]
    }
   ],
   "source": [
    "%%time\n",
    "gridclf=GridSearchCV(rf_clf,paramgrid,scoring=scorer,cv=3,verbose=1)"
   ]
  },
  {
   "cell_type": "code",
   "execution_count": 39,
   "metadata": {
    "collapsed": false
   },
   "outputs": [
    {
     "name": "stdout",
     "output_type": "stream",
     "text": [
      "Fitting 3 folds for each of 12 candidates, totalling 36 fits\n",
      "[CV] n_estimators=10, max_depth=1 ....................................\n",
      "[CV] ........................... n_estimators=10, max_depth=1 -   0.6s\n",
      "[CV] n_estimators=10, max_depth=1 ....................................\n",
      "[CV] ........................... n_estimators=10, max_depth=1 -   0.6s\n",
      "[CV] n_estimators=10, max_depth=1 ....................................\n",
      "[CV] ........................... n_estimators=10, max_depth=1 -   0.6s\n",
      "[CV] n_estimators=50, max_depth=1 ....................................\n",
      "[CV] ........................... n_estimators=50, max_depth=1 -   1.6s\n",
      "[CV] n_estimators=50, max_depth=1 ....................................\n",
      "[CV] ........................... n_estimators=50, max_depth=1 -   1.6s\n",
      "[CV] n_estimators=50, max_depth=1 ....................................\n",
      "[CV] ........................... n_estimators=50, max_depth=1 -   1.6s\n",
      "[CV] n_estimators=100, max_depth=1 ...................................\n",
      "[CV] .......................... n_estimators=100, max_depth=1 -   2.7s\n",
      "[CV] n_estimators=100, max_depth=1 ...................................\n",
      "[CV] .......................... n_estimators=100, max_depth=1 -   2.8s\n",
      "[CV] n_estimators=100, max_depth=1 ...................................\n",
      "[CV] .......................... n_estimators=100, max_depth=1 -   2.8s\n",
      "[CV] n_estimators=10, max_depth=5 ....................................\n",
      "[CV] ........................... n_estimators=10, max_depth=5 -   1.3s\n",
      "[CV] n_estimators=10, max_depth=5 ....................................\n",
      "[CV] ........................... n_estimators=10, max_depth=5 -   1.2s\n",
      "[CV] n_estimators=10, max_depth=5 ....................................\n",
      "[CV] ........................... n_estimators=10, max_depth=5 -   1.3s\n",
      "[CV] n_estimators=50, max_depth=5 ....................................\n",
      "[CV] ........................... n_estimators=50, max_depth=5 -   4.7s\n",
      "[CV] n_estimators=50, max_depth=5 ....................................\n",
      "[CV] ........................... n_estimators=50, max_depth=5 -   4.9s\n",
      "[CV] n_estimators=50, max_depth=5 ....................................\n",
      "[CV] ........................... n_estimators=50, max_depth=5 -   4.8s\n",
      "[CV] n_estimators=100, max_depth=5 ...................................\n",
      "[CV] .......................... n_estimators=100, max_depth=5 -   9.0s\n",
      "[CV] n_estimators=100, max_depth=5 ...................................\n",
      "[CV] .......................... n_estimators=100, max_depth=5 -   9.1s\n",
      "[CV] n_estimators=100, max_depth=5 ...................................\n",
      "[CV] .......................... n_estimators=100, max_depth=5 -   9.4s\n",
      "[CV] n_estimators=10, max_depth=10 ...................................\n",
      "[CV] .......................... n_estimators=10, max_depth=10 -   1.8s\n",
      "[CV] n_estimators=10, max_depth=10 ...................................\n",
      "[CV] .......................... n_estimators=10, max_depth=10 -   1.6s\n",
      "[CV] n_estimators=10, max_depth=10 ...................................\n",
      "[CV] .......................... n_estimators=10, max_depth=10 -   1.9s\n",
      "[CV] n_estimators=50, max_depth=10 ...................................\n",
      "[CV] .......................... n_estimators=50, max_depth=10 -   7.2s\n",
      "[CV] n_estimators=50, max_depth=10 ...................................\n",
      "[CV] .......................... n_estimators=50, max_depth=10 -   7.5s\n",
      "[CV] n_estimators=50, max_depth=10 ...................................\n",
      "[CV] .......................... n_estimators=50, max_depth=10 -   8.0s\n",
      "[CV] n_estimators=100, max_depth=10 ..................................\n",
      "[CV] ......................... n_estimators=100, max_depth=10 -  14.1s\n",
      "[CV] n_estimators=100, max_depth=10 ..................................\n",
      "[CV] ......................... n_estimators=100, max_depth=10 -  14.8s\n",
      "[CV] n_estimators=100, max_depth=10 ..................................\n",
      "[CV] ......................... n_estimators=100, max_depth=10 -  14.7s\n",
      "[CV] n_estimators=10, max_depth=15 ...................................\n",
      "[CV] .......................... n_estimators=10, max_depth=15 -   2.2s\n",
      "[CV] n_estimators=10, max_depth=15 ...................................\n",
      "[CV] .......................... n_estimators=10, max_depth=15 -   1.9s\n",
      "[CV] n_estimators=10, max_depth=15 ...................................\n",
      "[CV] .......................... n_estimators=10, max_depth=15 -   2.2s\n",
      "[CV] n_estimators=50, max_depth=15 ...................................\n",
      "[CV] .......................... n_estimators=50, max_depth=15 -   8.9s\n",
      "[CV] n_estimators=50, max_depth=15 ...................................\n",
      "[CV] .......................... n_estimators=50, max_depth=15 -   9.0s\n",
      "[CV] n_estimators=50, max_depth=15 ...................................\n",
      "[CV] .......................... n_estimators=50, max_depth=15 -   9.4s\n",
      "[CV] n_estimators=100, max_depth=15 ..................................\n",
      "[CV] ......................... n_estimators=100, max_depth=15 -  17.1s\n",
      "[CV] n_estimators=100, max_depth=15 ..................................\n",
      "[CV] ......................... n_estimators=100, max_depth=15 -  17.3s\n",
      "[CV] n_estimators=100, max_depth=15 ..................................\n",
      "[CV] ......................... n_estimators=100, max_depth=15 -  17.0s\n"
     ]
    },
    {
     "name": "stderr",
     "output_type": "stream",
     "text": [
      "[Parallel(n_jobs=1)]: Done  36 out of  36 | elapsed:  3.6min finished\n"
     ]
    },
    {
     "data": {
      "text/plain": [
       "GridSearchCV(cv=3, error_score='raise',\n",
       "       estimator=RandomForestClassifier(bootstrap=True, class_weight=None, criterion='gini',\n",
       "            max_depth=None, max_features='auto', max_leaf_nodes=None,\n",
       "            min_samples_leaf=1, min_samples_split=2,\n",
       "            min_weight_fraction_leaf=0.0, n_estimators=10, n_jobs=1,\n",
       "            oob_score=False, random_state=42, verbose=0, warm_start=False),\n",
       "       fit_params={}, iid=True, n_jobs=1,\n",
       "       param_grid={'n_estimators': [10, 50, 100], 'max_depth': [1, 5, 10, 15]},\n",
       "       pre_dispatch='2*n_jobs', refit=True,\n",
       "       scoring=make_scorer(accuracy_score), verbose=2)"
      ]
     },
     "execution_count": 39,
     "metadata": {},
     "output_type": "execute_result"
    }
   ],
   "source": [
    "gridclf.fit(X_tr,y_tr)"
   ]
  },
  {
   "cell_type": "code",
   "execution_count": 40,
   "metadata": {
    "collapsed": false
   },
   "outputs": [
    {
     "name": "stdout",
     "output_type": "stream",
     "text": [
      "{'n_estimators': 100, 'max_depth': 15}\n",
      "0.999749252234\n"
     ]
    }
   ],
   "source": [
    "print gridclf.best_params_\n",
    "print gridclf.best_score_"
   ]
  },
  {
   "cell_type": "code",
   "execution_count": 27,
   "metadata": {
    "collapsed": false
   },
   "outputs": [
    {
     "data": {
      "text/plain": [
       "array([ 0.,  0.,  1., ...,  0.,  0.,  0.])"
      ]
     },
     "execution_count": 27,
     "metadata": {},
     "output_type": "execute_result"
    }
   ],
   "source": [
    "gridclf.predict(X_te)"
   ]
  },
  {
   "cell_type": "code",
   "execution_count": 41,
   "metadata": {
    "collapsed": true
   },
   "outputs": [],
   "source": [
    "y_te_pred=gridclf.predict(X_te)"
   ]
  },
  {
   "cell_type": "code",
   "execution_count": 42,
   "metadata": {
    "collapsed": false
   },
   "outputs": [
    {
     "data": {
      "text/plain": [
       "0.99505668690559346"
      ]
     },
     "execution_count": 42,
     "metadata": {},
     "output_type": "execute_result"
    }
   ],
   "source": [
    "accuracy_score(y_te,y_te_pred)"
   ]
  },
  {
   "cell_type": "code",
   "execution_count": 46,
   "metadata": {
    "collapsed": false
   },
   "outputs": [
    {
     "name": "stdout",
     "output_type": "stream",
     "text": [
      "             precision    recall  f1-score   support\n",
      "\n",
      "        0.0       0.99      1.00      1.00     51399\n",
      "        1.0       1.00      0.94      0.97      4434\n",
      "\n",
      "avg / total       1.00      1.00      0.99     55833\n",
      "\n"
     ]
    }
   ],
   "source": [
    "print classification_report(y_te, y_te_pred)"
   ]
  },
  {
   "cell_type": "code",
   "execution_count": 167,
   "metadata": {
    "collapsed": false
   },
   "outputs": [
    {
     "data": {
      "text/plain": [
       "RandomForestClassifier(bootstrap=True, class_weight=None, criterion='gini',\n",
       "            max_depth=15, max_features='auto', max_leaf_nodes=None,\n",
       "            min_samples_leaf=1, min_samples_split=2,\n",
       "            min_weight_fraction_leaf=0.0, n_estimators=100, n_jobs=1,\n",
       "            oob_score=False, random_state=42, verbose=0, warm_start=False)"
      ]
     },
     "execution_count": 167,
     "metadata": {},
     "output_type": "execute_result"
    }
   ],
   "source": [
    "rf_clf_f=RandomForestClassifier(random_state=42, n_estimators=100, max_depth=15)\n",
    "\n",
    "rf_clf_f.fit(X_tr,y_tr)"
   ]
  },
  {
   "cell_type": "code",
   "execution_count": 168,
   "metadata": {
    "collapsed": false
   },
   "outputs": [
    {
     "name": "stdout",
     "output_type": "stream",
     "text": [
      "unan\n",
      "unanimous\n",
      "concurdummy\n",
      "concur\n",
      "lengthopin\n",
      "Wopinionlenght\n",
      "pagelgth\n",
      "Wlengthopin\n",
      "totalcites\n",
      "Wtotalcites\n"
     ]
    }
   ],
   "source": [
    "importances = rf_clf_f.feature_importances_\n",
    "col_names = list(df.columns)\n",
    "\n",
    "def get_top_n(n, arr, prev_list=[]):\n",
    "    \n",
    "    if n <= 0:\n",
    "        return\n",
    "    \n",
    "    most_imp = -1\n",
    "    most_imp_index = -1\n",
    "\n",
    "    for i in range(len(arr)):\n",
    "\n",
    "        if i in prev_list:\n",
    "            continue\n",
    "\n",
    "        if arr[i] > most_imp:\n",
    "            most_imp = arr[i]\n",
    "            most_imp_index = i\n",
    "\n",
    "    prev_list.append(most_imp_index)\n",
    "            \n",
    "    print col_names[most_imp_index]\n",
    "    \n",
    "    get_top_n(n - 1, arr, prev_list)\n",
    "    \n",
    "get_top_n(10, importances)\n",
    "    "
   ]
  },
  {
   "cell_type": "code",
   "execution_count": 169,
   "metadata": {
    "collapsed": false
   },
   "outputs": [
    {
     "name": "stdout",
     "output_type": "stream",
     "text": [
      "             precision    recall  f1-score   support\n",
      "\n",
      "        0.0       0.96      1.00      0.98     51399\n",
      "        1.0       0.96      0.51      0.66      4434\n",
      "\n",
      "avg / total       0.96      0.96      0.95     55833\n",
      "\n"
     ]
    }
   ],
   "source": [
    "y_te_pred = rf_clf_f.predict(X_te)\n",
    "\n",
    "print classification_report(y_te, y_te_pred)"
   ]
  },
  {
   "cell_type": "code",
   "execution_count": 151,
   "metadata": {
    "collapsed": false
   },
   "outputs": [
    {
     "data": {
      "text/plain": [
       "0.92371894757580641"
      ]
     },
     "execution_count": 151,
     "metadata": {},
     "output_type": "execute_result"
    }
   ],
   "source": [
    "accuracy_score(y_te,y_te_pred)"
   ]
  }
 ],
 "metadata": {
  "kernelspec": {
   "display_name": "Python 2",
   "language": "python",
   "name": "python2"
  },
  "language_info": {
   "codemirror_mode": {
    "name": "ipython",
    "version": 2
   },
   "file_extension": ".py",
   "mimetype": "text/x-python",
   "name": "python",
   "nbconvert_exporter": "python",
   "pygments_lexer": "ipython2",
   "version": "2.7.10"
  }
 },
 "nbformat": 4,
 "nbformat_minor": 0
}
