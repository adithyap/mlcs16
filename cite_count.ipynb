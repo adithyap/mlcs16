{
 "cells": [
  {
   "cell_type": "code",
   "execution_count": 72,
   "metadata": {
    "collapsed": true
   },
   "outputs": [],
   "source": [
    "import csv\n",
    "import networkx as nx\n",
    "import pandas as pd\n",
    "import numpy as np"
   ]
  },
  {
   "cell_type": "code",
   "execution_count": 17,
   "metadata": {
    "collapsed": false
   },
   "outputs": [
    {
     "name": "stdout",
     "output_type": "stream",
     "text": [
      "CPU times: user 26.6 ms, sys: 1.19 ms, total: 27.8 ms\n",
      "Wall time: 27.1 ms\n"
     ]
    }
   ],
   "source": [
    "%%time\n",
    "\n",
    "#############################################\n",
    "# Case number to ID map\n",
    "#############################################\n",
    "\n",
    "casenum_id_file = 'mapping.csv'\n",
    "\n",
    "# CASE NUM --> CASE ID\n",
    "casenum_id_map = {}\n",
    "\n",
    "reader = csv.reader(open(casenum_id_file))\n",
    "\n",
    "# Skip header\n",
    "next(reader, None)\n",
    "\n",
    "for row in reader:\n",
    "    casenum_id_map[int(row[0])] = row[1]"
   ]
  },
  {
   "cell_type": "code",
   "execution_count": 57,
   "metadata": {
    "collapsed": false
   },
   "outputs": [
    {
     "name": "stdout",
     "output_type": "stream",
     "text": [
      "CPU times: user 177 ms, sys: 4.34 ms, total: 181 ms\n",
      "Wall time: 179 ms\n"
     ]
    }
   ],
   "source": [
    "%%time\n",
    "\n",
    "#############################################\n",
    "# Case to author map\n",
    "#############################################\n",
    "\n",
    "case_author_file = 'final_feats_without_dummies_5.csv'\n",
    "\n",
    "# CASE ID <--> AUTHOR\n",
    "case_author_map = {}\n",
    "author_case_map = {}\n",
    "\n",
    "reader = csv.reader(open(case_author_file))\n",
    "\n",
    "# Skip header\n",
    "next(reader, None)\n",
    "\n",
    "for row in reader:\n",
    "    \n",
    "    casenum, judge_id = int(float(row[1])), int(float(row[2]))\n",
    "    \n",
    "    if casenum not in casenum_id_map:\n",
    "        continue\n",
    "    \n",
    "    # Convert case id to case num\n",
    "    caseid = casenum_id_map[casenum]\n",
    "    \n",
    "    if caseid in case_author_map:\n",
    "        continue\n",
    "    \n",
    "    case_author_map[ caseid ] = judge_id\n",
    "\n",
    "    if judge_id not in author_case_map:\n",
    "        author_case_map[ judge_id ] = {}\n",
    "\n",
    "    author_case_map[ judge_id ][caseid] = None\n",
    "        "
   ]
  },
  {
   "cell_type": "code",
   "execution_count": 39,
   "metadata": {
    "collapsed": true
   },
   "outputs": [],
   "source": [
    "#############################################\n",
    "# Citation graph\n",
    "#############################################\n",
    "\n",
    "def get_file_obj(filename):\n",
    "    return open(filename, 'r')\n",
    "\n",
    "\n",
    "def get_year_map(filename):\n",
    "    f = get_file_obj(filename)\n",
    "    \n",
    "    year_map = {}\n",
    "    \n",
    "    for line in f:\n",
    "        year, from_case, to_case = line[:-1].split(',')\n",
    "        \n",
    "        if from_case not in year:\n",
    "            year_map[from_case] = int(year)\n",
    "        \n",
    "    f.close()\n",
    "    \n",
    "    return year_map"
   ]
  },
  {
   "cell_type": "code",
   "execution_count": 33,
   "metadata": {
    "collapsed": true
   },
   "outputs": [],
   "source": [
    "citation_graph_data = 'CitationGraph/data/graph_stripped.csv'\n",
    "\n",
    "year_map = get_year_map(citation_graph_data)"
   ]
  },
  {
   "cell_type": "code",
   "execution_count": 37,
   "metadata": {
    "collapsed": false
   },
   "outputs": [
    {
     "name": "stdout",
     "output_type": "stream",
     "text": [
      "CPU times: user 27.1 s, sys: 927 ms, total: 28 s\n",
      "Wall time: 28 s\n"
     ]
    }
   ],
   "source": [
    "%%time\n",
    "\n",
    "citation_graph_map = {}\n",
    "\n",
    "reader = csv.reader(open(citation_graph_data))\n",
    "g = nx.DiGraph()\n",
    "\n",
    "for row in reader:\n",
    "    \n",
    "    year, from_case, to_case = row[0], row[1], row[2]\n",
    "    \n",
    "    # Citing a future case is invalid\n",
    "    if (to_case in year_map) and (from_case in year_map) and (year_map[from_case] < year_map[to_case]):\n",
    "        continue\n",
    "        \n",
    "    # If the cite each other, it is most likely that both are a wrong edge\n",
    "    if (to_case in g) and (from_case in g[to_case]):\n",
    "        del g[to_case][from_case]\n",
    "        continue\n",
    "        \n",
    "    g.add_edge(from_case, to_case)"
   ]
  },
  {
   "cell_type": "code",
   "execution_count": 67,
   "metadata": {
    "collapsed": false
   },
   "outputs": [],
   "source": [
    "#############################################\n",
    "# Generate judge pairs\n",
    "#############################################\n",
    "\n",
    "df = pd.read_csv('final_feats_without_dummies_3.csv', low_memory=False)\n",
    "\n",
    "cols_to_remove = list(df.columns)\n",
    "\n",
    "cols_to_remove.remove('codej1')\n",
    "cols_to_remove.remove('codej2')\n",
    "\n",
    "df.drop(labels=cols_to_remove, axis=1, inplace=True)\n",
    "\n",
    "df.to_csv('judge_pairs.csv')"
   ]
  },
  {
   "cell_type": "code",
   "execution_count": 70,
   "metadata": {
    "collapsed": false
   },
   "outputs": [
    {
     "name": "stdout",
     "output_type": "stream",
     "text": [
      "CPU times: user 9.68 s, sys: 43.1 ms, total: 9.72 s\n",
      "Wall time: 9.73 s\n"
     ]
    }
   ],
   "source": [
    "%%time\n",
    "\n",
    "#############################################\n",
    "# Generate citation count for judge pairs\n",
    "#############################################\n",
    "\n",
    "judge_pairs_csv = 'judge_pairs.csv'\n",
    "\n",
    "reader = csv.reader(open(judge_pairs_csv))\n",
    "\n",
    "# Skip header\n",
    "next(reader, None)\n",
    "\n",
    "cites = []\n",
    "g_cnt = 0\n",
    "\n",
    "for row in reader:\n",
    "    \n",
    "    idx, j1, j2 = row[0], int(float(row[1])), int(float(row[2]))\n",
    "    \n",
    "    count = 0\n",
    "    \n",
    "    # Iterate over j1's cases, see how many are citing something of j2\n",
    "    if j1 in author_case_map:\n",
    "    \n",
    "        for case in author_case_map[j1]:\n",
    "\n",
    "            # See the citations of this case\n",
    "            if case not in g:\n",
    "                continue\n",
    "\n",
    "            for citation in g[case]:\n",
    "\n",
    "                # See if j2 is its author\n",
    "                if (citation in case_author_map) and (case_author_map[citation] == j2):\n",
    "                    count += 1\n",
    "    \n",
    "    cites.append(count)"
   ]
  },
  {
   "cell_type": "code",
   "execution_count": 73,
   "metadata": {
    "collapsed": true
   },
   "outputs": [],
   "source": [
    "#############################################\n",
    "# Write out cites to file\n",
    "# Yay! Done :D\n",
    "#############################################\n",
    "\n",
    "np.savetxt('cite_counts.csv', cites, fmt='%s')"
   ]
  },
  {
   "cell_type": "code",
   "execution_count": 90,
   "metadata": {
    "collapsed": false
   },
   "outputs": [
    {
     "name": "stdout",
     "output_type": "stream",
     "text": [
      "CPU times: user 55.9 s, sys: 2.96 s, total: 58.8 s\n",
      "Wall time: 58.9 s\n"
     ]
    }
   ],
   "source": [
    "%%time\n",
    "# Append to original dataframe\n",
    "\n",
    "df = pd.read_csv('final_feats_without_dummies_3.csv', low_memory=False)\n",
    "df['cite_count'] = pd.Series(cites, index=df.index)\n",
    "df.to_csv('final_feats_4.csv')"
   ]
  }
 ],
 "metadata": {
  "kernelspec": {
   "display_name": "Python 2",
   "language": "python",
   "name": "python2"
  },
  "language_info": {
   "codemirror_mode": {
    "name": "ipython",
    "version": 2
   },
   "file_extension": ".py",
   "mimetype": "text/x-python",
   "name": "python",
   "nbconvert_exporter": "python",
   "pygments_lexer": "ipython2",
   "version": "2.7.10"
  }
 },
 "nbformat": 4,
 "nbformat_minor": 0
}
