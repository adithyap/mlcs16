{
 "cells": [
  {
   "cell_type": "code",
   "execution_count": 88,
   "metadata": {
    "collapsed": false
   },
   "outputs": [
    {
     "name": "stdout",
     "output_type": "stream",
     "text": [
      "nan\n"
     ]
    }
   ],
   "source": [
    "import pandas as pd\n",
    "import numpy as np\n",
    "from copy import deepcopy\n",
    "print np.NaN"
   ]
  },
  {
   "cell_type": "code",
   "execution_count": 38,
   "metadata": {
    "collapsed": true
   },
   "outputs": [],
   "source": [
    "builtlist=[{'casenum':10, 'j1':111,'j1maj':2,'j2':123,'j2maj':1,'j3':135,'j3maj':2,'more':030/234},\n",
    "           {'casenum':10, 'j1':131,'j1maj':2,'j2':13,'j2maj':1,'j3':135,'j3maj':2,'more':234/123},\n",
    "           {'casenum':12, 'j1':np.nan,'j1maj':1,'j2':111,'j2maj':2,'j3':133,'j3maj':1,'more':124/1333}, \n",
    "           {'casenum':14, 'j1':111,'j1maj':1,'j2':133,'j2maj':1,'j3':42,'j3maj':4,'more':124/13}]"
   ]
  },
  {
   "cell_type": "code",
   "execution_count": 11,
   "metadata": {
    "collapsed": false
   },
   "outputs": [
    {
     "data": {
      "text/plain": [
       "True"
      ]
     },
     "execution_count": 11,
     "metadata": {},
     "output_type": "execute_result"
    }
   ],
   "source": [
    "{'casenum':1, 11:2,10:1,135:2,'more':234/123}.has_key(10)"
   ]
  },
  {
   "cell_type": "code",
   "execution_count": 12,
   "metadata": {
    "collapsed": false
   },
   "outputs": [
    {
     "data": {
      "text/plain": [
       "True"
      ]
     },
     "execution_count": 12,
     "metadata": {},
     "output_type": "execute_result"
    }
   ],
   "source": [
    "10 in {'casenum':1, 11:2,10:1,135:2,'more':234/123}"
   ]
  },
  {
   "cell_type": "code",
   "execution_count": 41,
   "metadata": {
    "collapsed": true
   },
   "outputs": [],
   "source": [
    "test=pd.DataFrame(builtlist)"
   ]
  },
  {
   "cell_type": "code",
   "execution_count": 42,
   "metadata": {
    "collapsed": false
   },
   "outputs": [
    {
     "name": "stdout",
     "output_type": "stream",
     "text": [
      "   casenum   j1  j1maj   j2  j2maj   j3  j3maj  more\n",
      "0       10  111      2  123      1  135      2     0\n",
      "1       10  131      2   13      1  135      2     1\n",
      "2       12  NaN      1  111      2  133      1     0\n",
      "3       14  111      1  133      1   42      4     9\n"
     ]
    }
   ],
   "source": [
    "#test=test.fillna(value=0)\n",
    "print test"
   ]
  },
  {
   "cell_type": "code",
   "execution_count": 49,
   "metadata": {
    "collapsed": false
   },
   "outputs": [
    {
     "name": "stdout",
     "output_type": "stream",
     "text": [
      "111.0\n"
     ]
    }
   ],
   "source": [
    "print test[(test.casenum==10)].ix[0].j1"
   ]
  },
  {
   "cell_type": "code",
   "execution_count": 23,
   "metadata": {
    "collapsed": false
   },
   "outputs": [
    {
     "name": "stdout",
     "output_type": "stream",
     "text": [
      "[10.0, 12.0, 14.0]\n"
     ]
    }
   ],
   "source": [
    "caseList=[]\n",
    "for i in range(test.shape[0]):\n",
    "    if test.ix[i][\"casenum\"] not in caseList:\n",
    "        caseList.append(test.ix[i][\"casenum\"])\n",
    "print caseList"
   ]
  },
  {
   "cell_type": "code",
   "execution_count": 81,
   "metadata": {
    "collapsed": false,
    "scrolled": true
   },
   "outputs": [
    {
     "name": "stdout",
     "output_type": "stream",
     "text": [
      "[{13.0: 1.0, 123.0: 1.0, 135.0: 2.0, 131.0: 2.0, 111.0: 2.0}, {133.0: 1.0, 111.0: 2.0}, {42.0: 4.0, 133.0: 1.0, 111.0: 1.0}]\n"
     ]
    }
   ],
   "source": [
    "caserecord=[]\n",
    "for case in caseList:\n",
    "    judgerecord=dict()\n",
    "    subtest=test[test.casenum==case].reset_index(drop=True)\n",
    "    num=subtest.shape[0]\n",
    "    for j in range(num):\n",
    "        if  (subtest.ix[j].j1 not in judgerecord) & pd.notnull(subtest.ix[0].j1):  \n",
    "            judgerecord[subtest.ix[j].j1]=subtest.ix[j].j1maj\n",
    "        if  (subtest.ix[j].j2 not in judgerecord) & pd.notnull(subtest.ix[0].j2):  \n",
    "            judgerecord[subtest.ix[j].j2]=subtest.ix[j].j2maj\n",
    "        if  (subtest.ix[j].j3 not in judgerecord) & pd.notnull(subtest.ix[0].j3):  \n",
    "            judgerecord[subtest.ix[j].j3]=subtest.ix[j].j3maj\n",
    "    caserecord.append(judgerecord)\n",
    "print caserecord"
   ]
  },
  {
   "cell_type": "code",
   "execution_count": 89,
   "metadata": {
    "collapsed": false
   },
   "outputs": [
    {
     "name": "stdout",
     "output_type": "stream",
     "text": [
      "[{111.0: 2.0, 131.0: 2.0, 135.0: 2.0}, {111.0: 2.0, 123.0: 1.0, 131.0: 2.0}, {111.0: 2.0, 123.0: 1.0, 135.0: 2.0}, {123.0: 1.0, 131.0: 2.0, 135.0: 2.0}, {111.0: 2.0}, {133.0: 1.0}, {133.0: 1.0, 111.0: 1.0}, {42.0: 4.0, 111.0: 1.0}, {42.0: 4.0, 133.0: 1.0}]\n"
     ]
    }
   ],
   "source": [
    "accumulate=[]\n",
    "\n",
    "for cell in caserecord:\n",
    "    for k in cell:\n",
    "        celltem=deepcopy(cell)\n",
    "        celltem.pop(k)\n",
    "        accumulate.append(celltem)\n",
    "print accumulate"
   ]
  },
  {
   "cell_type": "code",
   "execution_count": 90,
   "metadata": {
    "collapsed": false,
    "scrolled": true
   },
   "outputs": [
    {
     "name": "stdout",
     "output_type": "stream",
     "text": [
      "   42   111  123  131  133  135\n",
      "0  NaN    2  NaN    2  NaN    2\n",
      "1  NaN    2    1    2  NaN  NaN\n",
      "2  NaN    2    1  NaN  NaN    2\n",
      "3  NaN  NaN    1    2  NaN    2\n",
      "4  NaN    2  NaN  NaN  NaN  NaN\n",
      "5  NaN  NaN  NaN  NaN    1  NaN\n",
      "6  NaN    1  NaN  NaN    1  NaN\n",
      "7    4    1  NaN  NaN  NaN  NaN\n",
      "8    4  NaN  NaN  NaN    1  NaN\n"
     ]
    }
   ],
   "source": [
    "print pd.DataFrame(accumulate)\n"
   ]
  },
  {
   "cell_type": "code",
   "execution_count": null,
   "metadata": {
    "collapsed": true
   },
   "outputs": [],
   "source": [
    "### new try"
   ]
  },
  {
   "cell_type": "code",
   "execution_count": 99,
   "metadata": {
    "collapsed": false
   },
   "outputs": [
    {
     "name": "stdout",
     "output_type": "stream",
     "text": [
      "   casenum   j1  j1maj   j2  j2maj   j3  j3maj  more\n",
      "0       10  111      2  123      1  135      2     0\n",
      "0       10  111      2  123      1  135      2     0\n",
      "0       10  111      2  123      1  135      2     0\n",
      "0       10  111      2  123      1  135      2     0\n",
      "0       10  111      2  123      1  135      2     0\n",
      "0       12  NaN      1  111      2  133      1     0\n",
      "0       12  NaN      1  111      2  133      1     0\n",
      "0       14  111      1  133      1   42      4     9\n",
      "0       14  111      1  133      1   42      4     9\n",
      "0       14  111      1  133      1   42      4     9\n"
     ]
    }
   ],
   "source": [
    "caserecord=[]\n",
    "newframe=pd.DataFrame()\n",
    "for case in caseList:\n",
    "    judgerecord=dict()\n",
    "    subtest=test[test.casenum==case].reset_index(drop=True)\n",
    "    num=subtest.shape[0]\n",
    "    for j in range(num):\n",
    "        if  (subtest.ix[j].j1 not in judgerecord) & pd.notnull(subtest.ix[0].j1):  \n",
    "            judgerecord[subtest.ix[j].j1]=subtest.ix[j].j1maj\n",
    "        if  (subtest.ix[j].j2 not in judgerecord) & pd.notnull(subtest.ix[0].j2):  \n",
    "            judgerecord[subtest.ix[j].j2]=subtest.ix[j].j2maj\n",
    "        if  (subtest.ix[j].j3 not in judgerecord) & pd.notnull(subtest.ix[0].j3):  \n",
    "            judgerecord[subtest.ix[j].j3]=subtest.ix[j].j3maj\n",
    "    caserecord.append(judgerecord)\n",
    "    for k in range(len(judgerecord)):\n",
    "        newframe=newframe.append(subtest.ix[0])\n",
    "print newframe    \n",
    "#print caserecord"
   ]
  },
  {
   "cell_type": "code",
   "execution_count": 106,
   "metadata": {
    "collapsed": false
   },
   "outputs": [
    {
     "name": "stdout",
     "output_type": "stream",
     "text": [
      "   index  casenum   j1  j1maj   j2  j2maj   j3  j3maj  more\n",
      "0      0       10  111      2  123      1  135      2     0\n",
      "1      0       10  111      2  123      1  135      2     0\n",
      "2      0       10  111      2  123      1  135      2     0\n",
      "3      0       10  111      2  123      1  135      2     0\n",
      "4      0       10  111      2  123      1  135      2     0\n",
      "5      0       12  NaN      1  111      2  133      1     0\n",
      "6      0       12  NaN      1  111      2  133      1     0\n",
      "7      0       14  111      1  133      1   42      4     9\n",
      "8      0       14  111      1  133      1   42      4     9\n",
      "9      0       14  111      1  133      1   42      4     9\n"
     ]
    }
   ],
   "source": [
    "newframe=newframe.reset_index()\n",
    "print newframe"
   ]
  },
  {
   "cell_type": "code",
   "execution_count": 100,
   "metadata": {
    "collapsed": false
   },
   "outputs": [
    {
     "name": "stdout",
     "output_type": "stream",
     "text": [
      "[{111.0: 2.0, 123.0: 1.0, 131.0: 2.0, 135.0: 2.0}, {111.0: 2.0, 131.0: 2.0, 13.0: 1.0, 135.0: 2.0}, {111.0: 2.0, 123.0: 1.0, 131.0: 2.0, 13.0: 1.0}, {111.0: 2.0, 123.0: 1.0, 13.0: 1.0, 135.0: 2.0}, {123.0: 1.0, 131.0: 2.0, 13.0: 1.0, 135.0: 2.0}, {111.0: 2.0}, {133.0: 1.0}, {133.0: 1.0, 111.0: 1.0}, {42.0: 4.0, 111.0: 1.0}, {42.0: 4.0, 133.0: 1.0}]\n"
     ]
    }
   ],
   "source": [
    "accumulate=[]\n",
    "\n",
    "for cell in caserecord:\n",
    "    for k in cell:\n",
    "        celltem=deepcopy(cell)\n",
    "        celltem.pop(k)\n",
    "        accumulate.append(celltem)\n",
    "print accumulate"
   ]
  },
  {
   "cell_type": "code",
   "execution_count": 102,
   "metadata": {
    "collapsed": false
   },
   "outputs": [
    {
     "name": "stdout",
     "output_type": "stream",
     "text": [
      "   13   42   111  123  131  133  135\n",
      "0  NaN  NaN    2    1    2  NaN    2\n",
      "1    1  NaN    2  NaN    2  NaN    2\n",
      "2    1  NaN    2    1    2  NaN  NaN\n",
      "3    1  NaN    2    1  NaN  NaN    2\n",
      "4    1  NaN  NaN    1    2  NaN    2\n",
      "5  NaN  NaN    2  NaN  NaN  NaN  NaN\n",
      "6  NaN  NaN  NaN  NaN  NaN    1  NaN\n",
      "7  NaN  NaN    1  NaN  NaN    1  NaN\n",
      "8  NaN    4    1  NaN  NaN  NaN  NaN\n",
      "9  NaN    4  NaN  NaN  NaN    1  NaN\n"
     ]
    }
   ],
   "source": [
    "accumulate=pd.DataFrame(accumulate)\n",
    "print accumulate"
   ]
  },
  {
   "cell_type": "code",
   "execution_count": 111,
   "metadata": {
    "collapsed": false
   },
   "outputs": [],
   "source": [
    "final = newframe.join(accumulate)"
   ]
  },
  {
   "cell_type": "code",
   "execution_count": 120,
   "metadata": {
    "collapsed": false
   },
   "outputs": [],
   "source": [
    "final=final.fillna(value=0)"
   ]
  },
  {
   "cell_type": "code",
   "execution_count": 121,
   "metadata": {
    "collapsed": false
   },
   "outputs": [
    {
     "data": {
      "text/html": [
       "<div>\n",
       "<table border=\"1\" class=\"dataframe\">\n",
       "  <thead>\n",
       "    <tr style=\"text-align: right;\">\n",
       "      <th></th>\n",
       "      <th>index</th>\n",
       "      <th>casenum</th>\n",
       "      <th>more</th>\n",
       "      <th>13.0</th>\n",
       "      <th>42.0</th>\n",
       "      <th>111.0</th>\n",
       "      <th>123.0</th>\n",
       "      <th>131.0</th>\n",
       "      <th>133.0</th>\n",
       "      <th>135.0</th>\n",
       "    </tr>\n",
       "  </thead>\n",
       "  <tbody>\n",
       "    <tr>\n",
       "      <th>0</th>\n",
       "      <td>0</td>\n",
       "      <td>10</td>\n",
       "      <td>0</td>\n",
       "      <td>0</td>\n",
       "      <td>0</td>\n",
       "      <td>2</td>\n",
       "      <td>1</td>\n",
       "      <td>2</td>\n",
       "      <td>0</td>\n",
       "      <td>2</td>\n",
       "    </tr>\n",
       "    <tr>\n",
       "      <th>1</th>\n",
       "      <td>0</td>\n",
       "      <td>10</td>\n",
       "      <td>0</td>\n",
       "      <td>1</td>\n",
       "      <td>0</td>\n",
       "      <td>2</td>\n",
       "      <td>0</td>\n",
       "      <td>2</td>\n",
       "      <td>0</td>\n",
       "      <td>2</td>\n",
       "    </tr>\n",
       "    <tr>\n",
       "      <th>2</th>\n",
       "      <td>0</td>\n",
       "      <td>10</td>\n",
       "      <td>0</td>\n",
       "      <td>1</td>\n",
       "      <td>0</td>\n",
       "      <td>2</td>\n",
       "      <td>1</td>\n",
       "      <td>2</td>\n",
       "      <td>0</td>\n",
       "      <td>0</td>\n",
       "    </tr>\n",
       "    <tr>\n",
       "      <th>3</th>\n",
       "      <td>0</td>\n",
       "      <td>10</td>\n",
       "      <td>0</td>\n",
       "      <td>1</td>\n",
       "      <td>0</td>\n",
       "      <td>2</td>\n",
       "      <td>1</td>\n",
       "      <td>0</td>\n",
       "      <td>0</td>\n",
       "      <td>2</td>\n",
       "    </tr>\n",
       "    <tr>\n",
       "      <th>4</th>\n",
       "      <td>0</td>\n",
       "      <td>10</td>\n",
       "      <td>0</td>\n",
       "      <td>1</td>\n",
       "      <td>0</td>\n",
       "      <td>0</td>\n",
       "      <td>1</td>\n",
       "      <td>2</td>\n",
       "      <td>0</td>\n",
       "      <td>2</td>\n",
       "    </tr>\n",
       "    <tr>\n",
       "      <th>5</th>\n",
       "      <td>0</td>\n",
       "      <td>12</td>\n",
       "      <td>0</td>\n",
       "      <td>0</td>\n",
       "      <td>0</td>\n",
       "      <td>2</td>\n",
       "      <td>0</td>\n",
       "      <td>0</td>\n",
       "      <td>0</td>\n",
       "      <td>0</td>\n",
       "    </tr>\n",
       "    <tr>\n",
       "      <th>6</th>\n",
       "      <td>0</td>\n",
       "      <td>12</td>\n",
       "      <td>0</td>\n",
       "      <td>0</td>\n",
       "      <td>0</td>\n",
       "      <td>0</td>\n",
       "      <td>0</td>\n",
       "      <td>0</td>\n",
       "      <td>1</td>\n",
       "      <td>0</td>\n",
       "    </tr>\n",
       "    <tr>\n",
       "      <th>7</th>\n",
       "      <td>0</td>\n",
       "      <td>14</td>\n",
       "      <td>9</td>\n",
       "      <td>0</td>\n",
       "      <td>0</td>\n",
       "      <td>1</td>\n",
       "      <td>0</td>\n",
       "      <td>0</td>\n",
       "      <td>1</td>\n",
       "      <td>0</td>\n",
       "    </tr>\n",
       "    <tr>\n",
       "      <th>8</th>\n",
       "      <td>0</td>\n",
       "      <td>14</td>\n",
       "      <td>9</td>\n",
       "      <td>0</td>\n",
       "      <td>4</td>\n",
       "      <td>1</td>\n",
       "      <td>0</td>\n",
       "      <td>0</td>\n",
       "      <td>0</td>\n",
       "      <td>0</td>\n",
       "    </tr>\n",
       "    <tr>\n",
       "      <th>9</th>\n",
       "      <td>0</td>\n",
       "      <td>14</td>\n",
       "      <td>9</td>\n",
       "      <td>0</td>\n",
       "      <td>4</td>\n",
       "      <td>0</td>\n",
       "      <td>0</td>\n",
       "      <td>0</td>\n",
       "      <td>1</td>\n",
       "      <td>0</td>\n",
       "    </tr>\n",
       "  </tbody>\n",
       "</table>\n",
       "</div>"
      ],
      "text/plain": [
       "   index  casenum  more  13.0  42.0  111.0  123.0  131.0  133.0  135.0\n",
       "0      0       10     0     0     0      2      1      2      0      2\n",
       "1      0       10     0     1     0      2      0      2      0      2\n",
       "2      0       10     0     1     0      2      1      2      0      0\n",
       "3      0       10     0     1     0      2      1      0      0      2\n",
       "4      0       10     0     1     0      0      1      2      0      2\n",
       "5      0       12     0     0     0      2      0      0      0      0\n",
       "6      0       12     0     0     0      0      0      0      1      0\n",
       "7      0       14     9     0     0      1      0      0      1      0\n",
       "8      0       14     9     0     4      1      0      0      0      0\n",
       "9      0       14     9     0     4      0      0      0      1      0"
      ]
     },
     "execution_count": 121,
     "metadata": {},
     "output_type": "execute_result"
    }
   ],
   "source": [
    "final.drop(['j1','j2','j3','j1maj','j2maj','j3maj'],1)"
   ]
  },
  {
   "cell_type": "code",
   "execution_count": null,
   "metadata": {
    "collapsed": true
   },
   "outputs": [],
   "source": []
  }
 ],
 "metadata": {
  "kernelspec": {
   "display_name": "Python 2",
   "language": "python",
   "name": "python2"
  },
  "language_info": {
   "codemirror_mode": {
    "name": "ipython",
    "version": 2
   },
   "file_extension": ".py",
   "mimetype": "text/x-python",
   "name": "python",
   "nbconvert_exporter": "python",
   "pygments_lexer": "ipython2",
   "version": "2.7.11"
  }
 },
 "nbformat": 4,
 "nbformat_minor": 0
}
