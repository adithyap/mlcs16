{
 "cells": [
  {
   "cell_type": "markdown",
   "metadata": {},
   "source": [
    "# Vote alignment"
   ]
  },
  {
   "cell_type": "markdown",
   "metadata": {},
   "source": [
    "## 1. All columns\n",
    "\n",
    "\n",
    "```\n",
    "\n",
    "\n",
    "precision    recall  f1-score   support\n",
    "\n",
    "        0.0       0.95      1.00      0.98     51435\n",
    "        1.0       0.95      0.43      0.59      4398\n",
    "\n",
    "avg / total       0.95      0.95      0.94     55833\n",
    "\n",
    "\n",
    "\n",
    "Top 10 features:\n",
    "\n",
    "('unanimous', 0.24297429414368779)\n",
    "('unan', 0.2245389750092763)\n",
    "('dissentvote', 0.073864027940886132)\n",
    "('dissentvalence', 0.048852374994780422)\n",
    "('liberaldissent', 0.038445428634452286)\n",
    "('dissmer', 0.018553759938252666)\n",
    "('dissmerdummy', 0.01835749111091086)\n",
    "('concurdummy', 0.017767131448387624)\n",
    "('concur', 0.013003671579360903)\n",
    "('diss0promerdummy', 0.011943237822093248)\n",
    "\n",
    "```\n",
    "\n",
    "\n",
    "**'Unanimous' and 'unan' are significantly more weighted than others.**"
   ]
  },
  {
   "cell_type": "markdown",
   "metadata": {},
   "source": [
    "## 2. All columns - (unanimous, unan)\n",
    "\n",
    "\n",
    "```\n",
    "\n",
    "precision    recall  f1-score   support\n",
    "\n",
    "        0.0       0.94      1.00      0.97     51435\n",
    "        1.0       0.97      0.30      0.46      4398\n",
    "\n",
    "avg / total       0.95      0.94      0.93     55833\n",
    "\n",
    "('dissentvote', 0.13314213500532135)\n",
    "('dissentvalence', 0.11190304596584745)\n",
    "('liberaldissent', 0.063264982344732323)\n",
    "('dissmer', 0.031376413990946039)\n",
    "('diss0promerdummy', 0.029071593085832702)\n",
    "('dissmerdummy', 0.024375883247479527)\n",
    "('disspro', 0.014384641316135338)\n",
    "('pagelgth', 0.013556218384292787)\n",
    "('dissprodummy', 0.013159172850476448)\n",
    "('Wlengthopin', 0.011386832356545669)\n",
    "\n",
    "```\n",
    "\n",
    "**Removing the top 2 seems to disrupt this list a little.**\n",
    "\n",
    "'diss0promerdummy' and 'disspro' have newly come into the list.  \n",
    "\n",
    "Maybe the columns with 'diss' in them are giving too much information away?"
   ]
  },
  {
   "cell_type": "markdown",
   "metadata": {},
   "source": [
    "## 3. All columns - (unanimous, unan, \\*diss\\*)\n",
    "\n",
    "\n",
    "```\n",
    "\n",
    "precision    recall  f1-score   support\n",
    "\n",
    "        0.0       0.92      1.00      0.96     51435\n",
    "        1.0       0.00      0.00      0.00      4398\n",
    "\n",
    "avg / total       0.85      0.92      0.88     55833\n",
    "\n",
    "('Wlengthopin', 0.019636283250984456)\n",
    "('judrev', 0.017182957587283217)\n",
    "('opp_wins', 0.016535501959704511)\n",
    "('Wopinionlenght', 0.015455500062324837)\n",
    "('sumappress', 0.011438626888425275)\n",
    "('d13', 0.011411582414060347)\n",
    "('Wtotalcites', 0.0098933474016059206)\n",
    "('appel1', 0.0095519397479721466)\n",
    "('month911_t0', 0.0095426932354118251)\n",
    "('preg2', 0.0093337355678511941)\n",
    "\n",
    "```\n",
    "\n",
    "**This seems to give a completely different set of important features, yet the drop in prediction performance is not huge -- about 2% loss in accuracy.**\n"
   ]
  }
 ],
 "metadata": {
  "kernelspec": {
   "display_name": "Python 2",
   "language": "python",
   "name": "python2"
  },
  "language_info": {
   "codemirror_mode": {
    "name": "ipython",
    "version": 2
   },
   "file_extension": ".py",
   "mimetype": "text/x-python",
   "name": "python",
   "nbconvert_exporter": "python",
   "pygments_lexer": "ipython2",
   "version": "2.7.10"
  }
 },
 "nbformat": 4,
 "nbformat_minor": 0
}
